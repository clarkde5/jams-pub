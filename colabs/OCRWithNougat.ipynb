{
  "nbformat": 4,
  "nbformat_minor": 0,
  "metadata": {
    "colab": {
      "provenance": [],
      "gpuType": "T4",
      "include_colab_link": true
    },
    "kernelspec": {
      "name": "python3",
      "display_name": "Python 3"
    },
    "language_info": {
      "name": "python"
    },
    "accelerator": "GPU"
  },
  "cells": [
    {
      "cell_type": "markdown",
      "metadata": {
        "id": "view-in-github",
        "colab_type": "text"
      },
      "source": [
        "<a href=\"https://colab.research.google.com/github/clarkde5/jams-pub/blob/main/colabs/OCRWithNougat.ipynb\" target=\"_parent\"><img src=\"https://colab.research.google.com/assets/colab-badge.svg\" alt=\"Open In Colab\"/></a>"
      ]
    },
    {
      "cell_type": "markdown",
      "source": [
        "# **Nougat**\n",
        "\n",
        "**Nougat is an encoder-decoder transformer model that can parse through PDFs to extract text, LaTeX math and tables. Nougat is built using the Document Understanding Transformer (DONUT) architecture. The models uses a visual encoder that crops the image to a specified size and outputs a sequence of embedded patches. The encoded image is decoded into a sequence of tokens using a transformer decoder. The team at Meta trained Nougat on over a million articles from arXiv, PubMed Central and the Industry Documents Library.**\n",
        "\n",
        "**Nougat outputs the information from PDFs into a Multimarkdown file output.**\n",
        "\n",
        "**Nougat can be trained or fine-tuned on a specified data set.**"
      ],
      "metadata": {
        "id": "KXhudR5lljsv"
      }
    },
    {
      "cell_type": "markdown",
      "source": [
        "<sup>Source: [Nougat: Neural Optical Understanding for Academic Documents](https://github.com/facebookresearch/nougat) GitHub Repository</sup>\n",
        "\n",
        "<sup>Source: [Nougat: Neural Optical Understanding for Academic Documents](https://arxiv.org/abs/2308.13418) Paper on arXiv</sup>"
      ],
      "metadata": {
        "id": "axZHBAhgNDgm"
      }
    },
    {
      "cell_type": "code",
      "source": [
        "from IPython import display\n",
        "import os"
      ],
      "metadata": {
        "id": "OFvAtOIlT6rq"
      },
      "execution_count": null,
      "outputs": []
    },
    {
      "cell_type": "code",
      "source": [
        "!pip install git+https://github.com/facebookresearch/nougat\n",
        "display.clear_output()"
      ],
      "metadata": {
        "id": "A3db1_kAlk-g"
      },
      "execution_count": null,
      "outputs": []
    },
    {
      "cell_type": "code",
      "source": [
        "!nougat -h"
      ],
      "metadata": {
        "id": "OYL7N-UcC12a",
        "colab": {
          "base_uri": "https://localhost:8080/"
        },
        "outputId": "81e87843-5760-4e99-c177-b7aa76951ff8"
      },
      "execution_count": null,
      "outputs": [
        {
          "output_type": "stream",
          "name": "stdout",
          "text": [
            "usage: nougat [-h] [--batchsize BATCHSIZE] [--checkpoint CHECKPOINT] [--model MODEL] [--out OUT]\n",
            "              [--recompute] [--full-precision] [--no-markdown] [--markdown] [--no-skipping]\n",
            "              [--pages PAGES]\n",
            "              pdf [pdf ...]\n",
            "\n",
            "positional arguments:\n",
            "  pdf                   PDF(s) to process.\n",
            "\n",
            "options:\n",
            "  -h, --help            show this help message and exit\n",
            "  --batchsize BATCHSIZE, -b BATCHSIZE\n",
            "                        Batch size to use.\n",
            "  --checkpoint CHECKPOINT, -c CHECKPOINT\n",
            "                        Path to checkpoint directory.\n",
            "  --model MODEL, -m MODEL\n",
            "                        Model tag to use.\n",
            "  --out OUT, -o OUT     Output directory.\n",
            "  --recompute           Recompute already computed PDF, discarding previous predictions.\n",
            "  --full-precision      Use float32 instead of bfloat16. Can speed up CPU conversion for some\n",
            "                        setups.\n",
            "  --no-markdown         Do not add postprocessing step for markdown compatibility.\n",
            "  --markdown            Add postprocessing step for markdown compatibility (default).\n",
            "  --no-skipping         Don't apply failure detection heuristic.\n",
            "  --pages PAGES, -p PAGES\n",
            "                        Provide page numbers like '1-4,7' for pages 1 through 4 and page 7. Only\n",
            "                        works for single PDF input.\n"
          ]
        }
      ]
    },
    {
      "cell_type": "markdown",
      "source": [
        "## **Converting a Native PDF File**"
      ],
      "metadata": {
        "id": "7J7YEkRg1bh6"
      }
    },
    {
      "cell_type": "code",
      "source": [
        "!curl -o quantum_physics.pdf https://www.sydney.edu.au/science/chemistry/~mjtj/CHEM3117/Resources/postulates.pdf"
      ],
      "metadata": {
        "id": "3BpwfqO0jYxQ",
        "colab": {
          "base_uri": "https://localhost:8080/"
        },
        "outputId": "bb5a4d5c-ddac-4594-beba-e64ac02e2d05"
      },
      "execution_count": null,
      "outputs": [
        {
          "output_type": "stream",
          "name": "stdout",
          "text": [
            "  % Total    % Received % Xferd  Average Speed   Time    Time     Time  Current\n",
            "                                 Dload  Upload   Total   Spent    Left  Speed\n",
            "100 69838  100 69838    0     0  76773      0 --:--:-- --:--:-- --:--:-- 76745\n"
          ]
        }
      ]
    },
    {
      "cell_type": "markdown",
      "source": [
        "<sup>Source: [The Postulates of Quantum Mechanics](https://www.sydney.edu.au/science/chemistry/~mjtj/CHEM3117/Resources/postulates.pdf) from the University of Sydney</sup>"
      ],
      "metadata": {
        "id": "jjxHvXNRIz1f"
      }
    },
    {
      "cell_type": "code",
      "source": [
        "!nougat --markdown pdf '/content/quantum_physics.pdf' --out 'physics'"
      ],
      "metadata": {
        "id": "lN-FZQ7XSCp5",
        "colab": {
          "base_uri": "https://localhost:8080/"
        },
        "outputId": "9bb238bf-1b19-402e-ae1b-638d6d18fd9d"
      },
      "execution_count": null,
      "outputs": [
        {
          "output_type": "stream",
          "name": "stdout",
          "text": [
            "2023-09-13 09:49:27.381742: W tensorflow/compiler/tf2tensorrt/utils/py_utils.cc:38] TF-TRT Warning: Could not find TensorRT\n",
            "downloading nougat checkpoint version 0.1.0-small to path /root/.cache/torch/hub/nougat\n",
            "config.json: 100% 557/557 [00:00<00:00, 2.17Mb/s]\n",
            "pytorch_model.bin: 100% 956M/956M [00:20<00:00, 48.1Mb/s]\n",
            "special_tokens_map.json: 100% 96.0/96.0 [00:00<00:00, 536kb/s]\n",
            "tokenizer.json: 100% 2.04M/2.04M [00:00<00:00, 5.53Mb/s]\n",
            "tokenizer_config.json: 100% 106/106 [00:00<00:00, 516kb/s]\n",
            "INFO:root:Output directory does not exist. Creating output directory.\n",
            "/usr/local/lib/python3.10/dist-packages/torch/functional.py:504: UserWarning: torch.meshgrid: in an upcoming release, it will be required to pass the indexing argument. (Triggered internally at ../aten/src/ATen/native/TensorShape.cpp:3483.)\n",
            "  return _VF.meshgrid(tensors, **kwargs)  # type: ignore[attr-defined]\n",
            "  0% 0/1 [00:00<?, ?it/s][nltk_data] Downloading package words to /root/nltk_data...\n",
            "[nltk_data]   Unzipping corpora/words.zip.\n",
            "INFO:root:Processing file /content/quantum_physics.pdf with 2 pages\n",
            "100% 1/1 [00:17<00:00, 17.61s/it]\n"
          ]
        }
      ]
    },
    {
      "cell_type": "code",
      "source": [
        "display.Latex('/content/physics/quantum_physics.mmd')"
      ],
      "metadata": {
        "id": "PsAGnmBITr9v"
      },
      "execution_count": null,
      "outputs": []
    },
    {
      "cell_type": "markdown",
      "source": [
        "## **Converting a Scanned PDF**"
      ],
      "metadata": {
        "id": "zJPzV5cu9bbP"
      }
    },
    {
      "cell_type": "code",
      "source": [
        "!nougat --no-skipping --recompute --no-markdown pdf '/content/Aug 23 copies.pdf' --out 'ocr_output'"
      ],
      "metadata": {
        "id": "xQ2rYzL62Z56",
        "colab": {
          "base_uri": "https://localhost:8080/"
        },
        "outputId": "17b0c701-f679-42f5-c89a-8cd38bd73d43"
      },
      "execution_count": null,
      "outputs": [
        {
          "output_type": "stream",
          "name": "stdout",
          "text": [
            "/usr/local/lib/python3.10/dist-packages/torch/functional.py:504: UserWarning: torch.meshgrid: in an upcoming release, it will be required to pass the indexing argument. (Triggered internally at ../aten/src/ATen/native/TensorShape.cpp:3526.)\n",
            "  return _VF.meshgrid(tensors, **kwargs)  # type: ignore[attr-defined]\n",
            "  0% 0/13 [00:00<?, ?it/s]INFO:root:Processing file /content/Aug 23 copies.pdf with 51 pages\n",
            "100% 13/13 [09:52<00:00, 45.57s/it]\n"
          ]
        }
      ]
    },
    {
      "cell_type": "code",
      "source": [
        "display.Latex('/content/ocr_output/Aug 23 copies.mmd')"
      ],
      "metadata": {
        "id": "-uHjkdxE6Rzm",
        "colab": {
          "base_uri": "https://localhost:8080/",
          "height": 1000
        },
        "outputId": "4af1267a-7e30-48c7-d31a-1918a3092bf3"
      },
      "execution_count": null,
      "outputs": [
        {
          "output_type": "execute_result",
          "data": {
            "text/plain": [
              "<IPython.core.display.Latex object>"
            ],
            "text/latex": "**Fod Tsur**\n\n**L3-1921099**\n\n**Cappenat Duas No**\n\n**00.170-7322**\n\n**KN UET: QRYZQ1/85/231**\n\nMaintenance**\n\n**Invoice No: 9009520780**\n\n**LONICA MINOLIA**\n\n**LNOICE No: 9009520780**\n\n**COPY**\n\n**Payment Due Date: 09/30/2023**\n\n**Invoice Date: 08/31/2023**\n\n**SUMMARY DETALL**\n\n**NET 30 DAYS**\n\n**Bill / Mail To: 1651399**\n\n**Payer: 1851399**\n\n**JAMS INC**\n\n**18881 VON KARMAN AVE**\n\n**IRVINE CA 92612-1500**\n\n**Quantity**\n\n**Unit Charge**\n\n**Bill Amount**\n\n**B2LPHB C3801 COLOR A3 MFP/36 PPM**\n\n**A2**,011012258**\n\n**1**\n\n**A2**,011012258**\n\n**A2**,011012258**\n\n**A2**,011012258**\n\n**A2**,011012258**\n\n**A2**,011012258**\n\n**A2**,011012258**\n\n**A2**,011012258**\n\n**A2**,011012258**\n\n**A2**,011012258**\n\n**A2**,011012258**\n\n**A2**,011012258**\n\n**A2**,011012258**\n\n**A2**,011012258**\n\n**A2**,011012258**\n\n**A2**,011012258**\n\n**A2**,011012258**\n\n**A2**,011012258**\n\n**A2**,011012258**\n\n**A2**,011012258**\n\n**A2**,011012258**\n\n**A2**,011012258**\n\n**A2**,011012258**\n\n**A2**,011012258**\n\n**A2**,011012258**\n\n**A2**,011012258**\n\n**A2**,011012258**\n\n**A2**,011012258**\n\n**A2**,011012258**\n\n**A2**,011012258**\n\n**A2**,011012258**\n\n**A2**,011012258**\n\n**A2**,011012258**\n\n**A2**,011012258**\n\n**A2**,011012258**\n\n**A2**,011012258**\n\n**A2**,011012258**\n\n**A2**,011012258**\n\n**A2**,011012258**\n\n**A2**,011012258**\n\n**A2**,011012258**\n\n**A2**,011012258**\n\n**A2**,011012258**\n\n**A2**,011012258**\n\n**A2**,011012258**\n\n**A2**,011012258**\n\n**A2**,011012258**\n\n**A2**,011012258**\n\n**A2**,011012258**\n\n**A2**,011012258**\n\n**A2**,011012258**\n\n**A2**,011012258**\n\n**A2**,011012258**\n\n**A2**,011012258**\n\n**A2**,011012258**\n\n**A2**,011012258**\n\n**A2**,011012258**\n\n**A2**,011012258**\n\n**A2**,011012258**\n\n**A2**,011012258**\n\n**A2**,011012258**\n\n**A2**,011012258**\n\n**A2**,011012258**\n\n**A2**,011012258**\n\n**A2**,011012258**\n\n**A2**,011012258**\n\n**A2**,011012258**\n\n**A2**,011012258**\n\n**A2**,011012258**\n\n**A2**,011012258**\n\n**A2**,011012258**\n\n**A2**,011012258**\n\n**A2**,011012258**\n\n**A2**,011012258**\n\n**A2**,011012258**\n\n**A2**,011012258**\n\n**A2**,011012258**\n\n**A2**,011012258**\n\n**A2**,011012258**\n\n**A2**,011012258**\n\n**A2**,011012258**\n\n**A2**,011012258**\n\n**A2**,011012258**\n\n**A2**,011012258**\n\n**A2**,011012258**\n\n**A2**,011012258**\n\n**A2**,011012258**\n\n**A2**,011012258**\n\n**A2**,011012258**\n\n**A2**,011012258**\n\n**A2**,011012258**\n\n**A2**,011012258**\n\n**A2**,011012258**\n\n**A2**,011012258**\n\n**A2**,011012258**\n\n**A2**,011012258**\n\n**A2**,011012258**\n\n**A2**,011012258**\n\n**A2**,011012258**\n\n**A2**,011012258**\n\n**A2**,011012258**\n\n**A2**,011012258**\n\n**A2**,011012258**\n\n**A2**,011012258**\n\n**A2**,011012258**\n\n**A2**,011012258**\n\n**A2**,011012258**\n\n**A2**,011012258**\n\n**A2**,011012258**\n\n**A2**,011012258**\n\n**A2**,011012258**\n\n**A2**,011012258**\n\n**A2**,011012258**\n\n**A2**,011012258**\n\n**A2**,011012258**\n\n**A2**,011012258**\n\n**A2**,011012258**\n\n**A2**,011012258**\n\n**A2**,011012258**\n\n**A2**,011012258**\n\n**A2,011012258**\n\n**A2**,011012258**\n\n**A2**,011012258**\n\n**A2,011012258**\n\n**A2**,011012258**\n\n**A2**,011012258**\n\n**A2,011012258**\n\n**A2**,011012258**\n\n**A2**,011012258**\n\n**A2**,011012258**\n\n**A2,011012258**\n\n**A2,011012258**\n\n**A2,011012258**\n\n**A2,011012258**\n\n**A2,011012258**\n\n**A2,011012258**\n\n**A2,011012258**\n\n**A2,011012258**\n\n**A2,011012258**\n\n**A2,011012258**\n\n**A2,011012258**\n\n**A2,011012258**\n\n**A2,011012258**\n\n**A2,011012258**\n\n**A2,011012258**\n\n**A2,011012258**\n\n**A2,011012258**\n\n**A2,01101258**\n\n**A2,011012258**\n\n**A2,011012258**\n\n**A2,011012258**\n\n**A2,011012258**\n\n**A2,011012258**\n\n**A2,01101258**\n\n**A2,01101258**\n\n**A2,011012258**\n\n**A2,011012258**\n\n**A2,01101258**\n\n\\begin{tabular}{|c c c c c c c c c c c|} \\hline \\multicolumn{12}{|c|}{**Purchase Order Number**} & \\multicolumn{6}{c|}{**Equipment Location**} & \\multicolumn{2}{c|}{**1722652**} \\\\ \\hline  & & & & & & & & & & \\\\ \\hline \\multicolumn{12}{|c|}{**Customer Contract**} & \\multicolumn{2}{c|}{**Contract Coverage Dates**} & \\multicolumn{2}{c|}{**Quarification Dates**} \\\\ \\hline \\multicolumn{12}{|c|}{**Summary of Invoice Charges**} \\\\ \\hline \\multicolumn{12}{|c|}{**Purchase Order Number**} \\\\ \\hline \\multicolumn{12}{|c\n\\begin{tabular}{|l c c c c c c c c c|} \\hline \\multicolumn{1}{|c|}{**Purchase Order Number**} & \\multicolumn{5}{c|}{**Equipment Location**} & \\multicolumn{1}{c|}{1115447} \\\\ \\hline  & & & & & & & & & \\\\  & & & & & & & & & & \\\\ \\hline \\multicolumn{1}{|c|}{**Customer Contract**} & \\multicolumn{5}{c|}{**Contract Coverage Dates**} & \\multicolumn{5}{c|}{**New York NY 10018-1664**} \\\\ \\hline  & & & & & & & & & & \\\\ \\hline \\multicolumn{1}{|c|}{**Summary of Invoice Charges**} & \\multicolumn{5}{c|}{**Quantity**} & \\multicolumn{5}{c|}{**Unit Charge**} & \\multicolumn{5}{c|}{**Bill Amount**} \\\\ \\hline Invoice 288985883 & & & & & & & & & \\\\ BLZHUB C3001 COLOR A3 MFP/30 PPM & & & & & & & & & \\\\ \\hline \\multicolumn{1}{|c|}{**Customer Coter**} & \\multicolumn{5}{c|}{**Previous Meter**} & \\multicolumn{5}{c|}{**Ustage**} & \\multicolumn{5}{c|}{**Allowable**} & \\multicolumn{5}{c|}{**Svc. Crd**} & \\multicolumn{5}{c|}{**Accepta**} & \\multicolumn{5}{c|}{**Tier Range**} \\\\ \\hline\n29,741 & 28,572 & 1,169 & 0 & 0 & 0 & 0 & 999,999,999 & 1,169 & 0.00650 & 7.60 \\\\ B\\&W Mater & & & & & & & & & \\\\ \\hline \\multicolumn{1}{|c|}{**Current Meter**} & \\multicolumn{5}{c|}{**Previous Meter**} & \\multicolumn{5}{c|}{**Meter Usage**} & \\multicolumn{5}{c|}{**Allowable**} & \\multicolumn{5}{c|}{**Svc. Crd**} & \\multicolumn{5}{c|}{**Accepta**} & \\multicolumn{5}{c|}{**Tier Range**} \\\\ \\hline\n7,878 & 7,664 & -86 & 0 & 0 & 0 & 999,999,999 & -86 & 0.06000 & -5.16 \\\\ Color Meter & & & & & & & & & & \\\\ \\multicolumn{1}{|c|}{**Removal Date: 08/01/2023**} & \\multicolumn{5}{c|}{**Invoice Sub Total:**} & \\multicolumn{5}{c|}{**2.44**} \\\\ \\multicolumn{1}{|c|}{} & \\multicolumn{5}{c|}{**Tax Total:**} & \\multicolumn{5}{c|}{**Invoice Total:**} & \\multicolumn{5}{c|}{**SS 2.64**} \\\\ \\hline \\multicolumn{1}{|c|}{**Invoice Description / Comments**} & \\multicolumn{5}{c|}{**Invoice Proof**} & \\multicolumn{5}{c|}{**Compt.**} \\\\ \\hline Monthly invice for Maintenance agreement covering the billing period of 08/01/2023 - 08/01/2023. & & & & & & & \\\\ Includes labor, parts, drums, stapples and supplies. Excludes paper. & & & & & & & & \\\\ \\hline \\multicolumn{1}{|c|}{**Purchase Order Number**} & \\multicolumn{5}{c|}{**Equipment Location**} & \\multicolumn{5}{c|}{**4880757**} \\\\ \\hline  & & & & & & & & & \\\\ \\hline \\multicolumn{1}{|c|}{**Customer Contract**} & \\multicolumn{5}{c|}{**Contract Coverage Dates**} & \\multicolumn{5}{c|}{**Purchase Dates**} & \\multicolumn{5}{c|}{**Purchase Dates**} \\\\ \\hline \\multicolumn{1}{|c|}{**Customer Custer**} & \\multicolumn{5}{c|}{**Invoice Proof**} & \\multicolumn{5}{c|}{**Invoice Proof**} & \\multicolumn{5}{c|}{**Invoice Proof**} & \\multicolumn{5}{c|}{**Invoice Proof**} & \\multicolumn{5}{c|}{**Invoice Proof**} & \\multicolumn{5}{c|}{**Invoice Proof**} \\\\ \\hline B2HUB C3001 COLOR A3 MFP/30 PPM & & & & & & & & \\\\ \\hline \\multicolumn{1}{|c|}{**Customer Custer**} & \\multicolumn{5}{c|}{**Previous Meter**} & \\multicolumn{5}{c|}{**Meter Usage**} & \\multicolumn{5}{c|}{**Allowable**} & \\multicolumn{5}{c|}{**Svc. Crd**} & \\multicolumn{5}{c|}{**Credit**} & \\multicolumn{5}{c|}{**Tier Range**} \\\\ \\hline\n21,028 & 7,466 & 13,562 & 0 & 0 & 0 & 999,999,999 & 13,562 & 0.00650 & 88.15 \\\\ B\\&W Mater & & & & & & & & \\\\ \\hline \\multicolumn{1}{|c|}{**Current Meter**} & \\multicolumn{5}{c|}{**Previous Meter**} & \\multicolumn{5}{c|}{**Meter Usage**} & \\multicolumn{5}{c|}{**Allowable**} & \\multicolumn{5}{c|}{**Svc. Crd**} & \\multicolumn{5}{c|}{**Accepta**} & \\multicolumn{5}{c|}{**Tier Range**} \\\\ \\hline\n10,518 & 4,990 & 5,528 & 0 & 0 & 0 & 999,999,999 & 5,528 & 0.06000 & 331.68 \\\\ Color Meter & & & & & & & & & \\\\ \\multicolumn{1}{|c|}{**Removal Date: 08/08/2023**} & \\multicolumn{5}{c|}{**Invoice Sub Total:**} \\\\ \\multicolumn{1}{|c|}{**Tax Total:**} & \\multicolumn{5}{c|}{**Invoice Total:**} & \\multicolumn{5}{c|}{**SS 2.64**} \\\\ \\hline \\multicolumn{1}{|c|}{**Invoice Proof**} & \\multicolumn{5}{c|}{**Invoice Proof**} & \\multicolumn{5}{c|}{**Invoice Proof**} & \\multicolumn{5}{c|}{**SS 2.64**} \\\\ \\hline \\multicolumn{1}{|c|}{**Invoice Proof**} & \\multicolumn{5}{c|}{**Invoice Proof**} & \\multicolumn{5}{c|}{**Invoice Proof**} & \\multicolumn{5}{c|}{**Invoice Proof**} & \\multicolumn{5}{c|}{**Invoice Proof**} \\\\ \\hline \\multicolumn{1}{|c|}{**Invoice Proof**} & \\multicolumn{5}{c|}{**Invoice Proof**} & \\multicolumn{5}{c|}{**Invoice Proof**} & \\multicolumn{5}{c|}{**Invoice Proof**} & \\multicolumn{5}{c|}{**Invoice Proof**} \\\\ \\hline B2HUB C3001 COLOR A3 MFP/30 PPM & & & & & & & \\\\ \\hline \\multicolumn{1}{|c|}{**Customer Custer**} & \\multicolumn{5}{c|}{**Invoice Proof**} & \\multicolumn{5}{c|}{**Invoice Proof**} & \\multicolumn{5}{c|}{**Invoice Proof**} & \\multicolumn{5}{c|}{**Invoice Proof**} \\\\ \\hline \\multicolumn{1}{|c|}{**Customer Custer**} & \\multicolumn{5}{c|}{**Invoice Proof**} & \\multicolumn{5}{c|}{**Invoice Proof**} & \\multicolumn{5}{c|}{**Invoice Proof**} & \\multicolumn{5}{c|}{**Invoice Proof**} \\\\ \\hline\n21,028 & 7,466 & 13,562 & 0 & 0 & 0 & 999,999,999 & 13,562 & 0.00650 & 88.15 \\\\ B\\&W Mater & & & & & & & \\\\ \\hline \\multicolumn{1}{|c|}{**Current Meter**} & \\multicolumn{5}{c|}{**Previous Meter**} & \\multicolumn{5}{c|}{**Meter Usage**} & \\multicolumn{5}{c|}{**Allowable**} & \\multicolumn{5}{c|}{**Svc. Crd**} & \\multicolumn{5}{c|}{**Creities**} & \\multicolumn{5}{c|}{**Tier Range**} \\\\ \\hline\n10,518 & 4,990 & 5,528 & 0 & 0 & 0 & 999,999,999 & 5,528 & 0.06000 & 331.68 \\\\ Color Meter & & & & & & & & \\\\ \\multicolumn{1}{|c|}{**Removal Date: 08/08/2023**} & \\multicolumn{5}{c|}{**Invoice Sub Total:**} & \\multicolumn{5}{c|}{**Tax Total:**} \\\\ \\multicolumn{1}{|c|}{**Invoice Proof**} & \\multicolumn{5}{c|}{**Invoice Proof**} & \\multicolumn{5}{c|}{**SS 2.64**} \\\\ \\hline \\multicolumn{1}{|\n\n**Summary of Invoice Charges**\n\n**Invoice 288985945**\n\n**Unit Contract: 62090165**\n\n**\"BIZHUB C4501 45 PPM COLOR MFP**\n\n**A7R011003977**\n\n**Avergeate**\n\n**Tier Range**\n\n**Tier Range**\n\n**7,387**\n\n**7,265**\n\n**122**\n\n**0**\n\n**0**\n\n**9\n\\begin{tabular}{|l c c c c c c c c c|} \\hline \\multicolumn{1}{|c}{**Summary of Invoice Charges**} & \\multicolumn{1}{c}{**Quantity**} & \\multicolumn{1}{c}{**Unit**} & \\multicolumn{1}{c}{**Charge**} & \\multicolumn{1}{c}{**Bill Amount**} \\\\ \\hline Invoice 288985950 & \\multicolumn{1}{c}{} & \\multicolumn{4}{c}{**Unit Contract:** 62112905} \\\\ BLZHUB C40501 COLOR MFP & \\multicolumn{4}{c}{AAJN011002647} & 1 & \\\\\n**Current Meter** & **Previous Meter** & **Meter Usage** & **Allowable** & **Svc. Ord** & **Average Credits** & **Tier Range** & & \\\\\n50,061 & 49,693 & 368 & 0 & 0 & 0 & 999,999,999 & 368 & 0.00650 & 2.39 \\\\ B\\&W Meter & & & & & & & & \\\\ \\hline\n**Current Meter** & **Previous Meter** & **Meter Usage** & **Allowable** & **Svc. Ord** & **Aggregate Credits** & **Tier Range** & & & \\\\\n3,629 & 3,473 & 156 & 0 & 0 & 0 & 999,999,999 & 156 & 0.06000 & 9.36 \\\\ Color Meter & & & & & & & & & \\\\  & & & & & & & & & \\\\  & & & & & & & & & \\\\  & & & & & & & & & \\\\  & & & & & & & & & \\\\  & & & & & & & & & & \\\\  & & & & & & & & & & \\\\  & & & & & & & & & & \\\\  & & & & & & & & & & \\\\  & & & & & & & & & & \\\\  & & & & & & & & & & \\\\ \\hline\n\n**Conference on the 2016-2017**\n\\begin{tabular}{|l c c c c c c c c c|} \\hline \\multicolumn{1}{|c}{**Summary of Invoice Charges**} & \\multicolumn{1}{c}{**Quantity**} & \\multicolumn{1}{c}{**Unit**} & \\multicolumn{1}{c}{**Charge**} & \\multicolumn{1}{c}{**Bill Amount**} \\\\ \\hline Invoice 288985047 & \\multicolumn{1}{c}{} & \\multicolumn{1}{c}{} & \\multicolumn{3}{c}{**Unit Contract:** 62043954} \\\\ BLZH-UB C40501 & COLOR MFP & \\multicolumn{3}{c}{AAJN011001635} & 1 & & \\\\ \\hline\n**Current Meter** & **Previous Meter** & **Meter Usage** & **Allowable** & **Svc. Crd** & **Actifis** & **Tier Range** & & \\\\ \\hline\n31,472 & 31,143 & 329 & 0 & 0 & 0 & 999,999,999 & 329 & 0.00650 & 2.14 \\\\ B\\&W Meter & & & & & & & & \\\\ \\hline\n**Current Meter** & **Previous Meter** & **Meter Usage** & **Allowable** & **Svc. Crd** & **Actifis** & **Tier Range** & & \\\\ \\hline\n\n\\begin{tabular}{|c c c c c c c c c|} \\hline \\multicolumn{1}{|c|}{**Purchase Order Number**} & \\multicolumn{3}{c|}{**Equipment Location**} & \\multicolumn{3}{c|}{**100201875**} \\\\ \\hline  & & & & & & & & \\\\ \\hline \\multicolumn{1}{|c|}{**Customer Contract**} & \\multicolumn{3}{c|}{**Contract Coverage Dates**} & \\multicolumn{3}{c|}{**Quantity**} & \\multicolumn{3}{c|}{**Unit**} & \\multicolumn{3}{c|}{**Charge**} \\\\ \\hline  & & & & & & & & \\\\ \\hline \\multicolumn{1}{|c|}{**Summary of Invoice Charges**} & \\multicolumn{3}{c|}{**Quantity**} & \\multicolumn{3}{c|}{**Unit**} & \\multicolumn{3}{c|}{**Bill Amount**} \\\\ \\hline  & & & & & & & & \\\\ BLZHUB C3001 & COLOR A3 MPP-30 PPM & & & & & & & & \\\\ \\hline \\multicolumn{1}{|c|}{**American Letter**} & \\multicolumn{3}{c|}{**Previous Meter**} & \\multicolumn{3}{c|}{**Meter Usage**} & \\multicolumn{3}{c|}{**Allowable**} & \\multicolumn{3}{c|}{**Svc. Ord**} & \\multicolumn{3}{c|}{**Crebits**} & \\multicolumn{3}{c|}{**Tier Range**} \\\\ \\hline\n33,612 & 31,141 & 2,471 & 0 & 0 & 0 & 999,996,999 & 2,471 & 0.00650 & 16.06 \\\\ B\\&W Meter & & & & & & & & \\\\ \\hline \\multicolumn{1}{|c|}{**Current Meter**} & \\multicolumn{3}{c|}{**Previous Meter**} & \\multicolumn{3}{c|}{**Meter Usage**} & \\multicolumn{3}{c|}{**Allowable**} & \\multicolumn{3}{c|}{**Svc. Ord**} & \\multicolumn{3}{c|}{**Aggreate**} & \\multicolumn{3}{c|}{**Crebits**} & \\multicolumn{3}{c|}{**Tier Range**} \\\\ \\hline\n\n\\begin{tabular}{|c c c c c|} \\hline\n**Summary of Invoice Charges** & **Quantity** & **Unit** & **Bill Amount** \\\\ \\hline \\multicolumn{4}{|c|}{Non-Taxable Amount:} & 5.49 \\\\ \\multicolumn{4}{|c|}{Taxable Amount:} & 4.49 \\\\ \\multicolumn{4}{|c|}{Invoice Sub Total:} & 9.98 \\\\ \\multicolumn{4}{|c|}{Tax Total:} & 0.42 \\\\ \\multicolumn{4}{|c|}{Invoice Total:} & **\\$ 10.40** \\\\ \\hline \\multicolumn{4}{|c|}{**Invoice Description / Comments**} \\\\ \\hline Monthly invoice for Maintenance agreement covering the billing period of 08/01/2023 - 08/31/2023. & & & \\\\ Includes labor, parts, drums, and supplies. Excludes stapples and paper. & & & \\\\ \\hline \\multicolumn{4}{|c|}{**Purchase Order Number**} & **Equipment Location** & 100114088 \\\\ \\hline \\multicolumn{4}{|c|}{JAMS INC} \\\\ \\multicolumn{4}{|c|}{1925 CENTURY PARK E} \\\\ \\multicolumn{4}{|c|}{LOS ANGELES CA 90067} \\\\ \\hline \\multicolumn{4}{|c|}{01/28/2021-01/27/2024} \\\\ \\hline \\multicolumn{4}{|c|}{**Summary of Invoice Charges**} & **Quantity** & **Unit** & **Charge** & **Bill Amount** \\\\ \\hline \\multicolumn{4}{|c|}{**Invoice 288986068**} & **Unit Contract: 62207041** & **1** & \\\\ \\multicolumn{4}{|c|}{**’B1Z+UB C4501 45 PPM COLOR MFP**} & **AA7R01 1014953** & **1** & & \\\\ \\multicolumn{4}{|c|}{**Current Meter**} & **Previous Meter Usage** & **Allowable** & **Svc. Ord** & **Accrete** & **Tier Range** & \\\\ \\hline \\multicolumn{4}{|c|}{9,106} & 8,816 & 290 & 0 & 0 & 999,996,999 & 290 & 0.00650 & 1.89 \\\\ \\multicolumn{4}{|c|}{B&W Meter} & **A**e\n\n[MISSING_PAGE_EMPTY:16]\n\n\\begin{tabular}{|c c c c c c c c c c|} \\hline \\multicolumn{1}{|c}{**Summary of Invoice Charges**} & \\multicolumn{1}{c}{**Quantity**} & \\multicolumn{1}{c}{**Unit**} & \\multicolumn{1}{c}{**Charge**} & \\multicolumn{1}{c}{**Bill Amount**} \\\\ \\hline Invoice 288985076 & \\multicolumn{6}{c}{**Unit Contract: 62342870**} \\\\ BLZHUB C3001 WITH DF-714 & \\multicolumn{6}{c}{**AA2K011012877**} & 1 & \\\\\n**Current Meter** & **Previous Meter** & **Meter Usage** & **Allowable** & **Svc. Ord** & **Average Credits** & **Tier Range** & & \\\\\n3,385 & 3,164 & 221 & 0 & 0 & 0 & 999,999,999 & 221 & 0.00650 & 1.44 \\\\ B8W Meter & \\multicolumn{6}{c}{} & \\multicolumn{6}{c}{} & \\multicolumn{6}{c}{} & \\multicolumn{6}{c}{} & \\multicolumn{6}{c}{} \\\\\n**Current Meter** & **Previous Meter** & **Meter Usage** & **Allowable** & **Svc. Ord** & **Average Credits** & **Tier Range** & & \\\\\n\n**Copy**\n\n**SUMMARY DETAIL**\n\n**Conference on the 2016-1000**\n\n**Copy**\n\n**SUMMARY DETAIL**\n\n\\begin{tabular}{|c c c c c c c c|} \\hline \\multicolumn{3}{|c|}{**Purchase Order Number**} & \\multicolumn{3}{c|}{**Equipment Location**} & \\multicolumn{2}{c|}{**10011408**} \\\\ \\hline  & & & & & & & & \\\\  & & & & & & & & & \\\\ \\hline \\multicolumn{3}{|c|}{**U\n\\begin{tabular}{|c c c c c c c c|} \\hline \\multicolumn{3}{|c|}{**Purchase Order Number**} & \\multicolumn{3}{c|}{**Equipment Location**} & \\multicolumn{1}{c|}{1115447} \\\\ \\hline  & & & JAMS INC & & & & \\\\  & & & FL 34 & & & & & \\\\ \\hline\n**Customer Contract** & **Contract Coverage Dates** & & & & & & & \\\\  & & & & & & & & \\\\  & & & & & & & & \\\\  & & & & & & & & \\\\  & & & & & & & & \\\\ \\hline\n**Summary of Invoice Charges** & & & & & & & & \\\\ \\hline Invoice 288985204 & & & & & & & & \\\\ \\({}^{*}\\)BIZHUS 3622 COPIER/PRINTER & & & & & & & & \\\\  & & & & & & & & \\\\ \\hline\n**Current Meter** & **Previous Meter** & & & & & & & \\\\  & & & & & & & \\\\  & & & & & & & & \\\\  & & & & & & & & \\\\ \\hline\n**Invoice Description / Comments** & & & & & & & & \\\\ \\hline Monthly invoice for Maintenance agreement covering the billing period of 08/01/2023 - 08/31/2023. & & & & & & & \\\\  & & & & & & & & \\\\  & & & & & & & \\\\  & & & & & & & \\\\  & & & & & & & \\\\ \\hline \\multicolumn{3}{|c|}{**Purchase Order Number**} & \\multicolumn{3}{c|}{**Equipment Location**} & \\multicolumn{1}{c|}{944267} \\\\ \\hline  & & JAMS INC & & & & & & \\\\  & & & & & & & & \\\\  & & & & & & & \\\\  & & & & & & & \\\\  & & & & & & & \\\\  & & & & & & & \\\\ \\hline\n**Customer Contract** & **Contract Coverage Dates** & & & & & & & \\\\  & & & & & & & \\\\  & & & & & & & \\\\  & & & & & & & \\\\  & & & & & & & \\\\  & & & & & & & \\\\ \\hline\n**Summary of Invoice Charges** & & & & & & & \\\\ \\hline Invoice 288986217 & & & & & & & & \\\\ BLZHUB C3001 COLOR AS MFP/30 PPM & & & & & & & \\\\  & & & & & & & \\\\ \\hline\n**Current Meter** & **Previous Meter** & & & & & & & \\\\  & & & & & & & \\\\  & & & & & & & \\\\ \\hline\n7,885 & 7,735 & 150 & 0 & 0 & 0 & 999,999,999 & 150 & 0.00650 & 0.98 \\\\ B&W Meter & & & & & & & \\\\ \\hline\n**Current Meter** & **Previous Meter** & & & & & & & \\\\  & & & & & & & \\\\ \\hline\n**Current Meter** & **Previous Meter** & & & & & & \\\\  & & & & & & & \\\\ \\hline\n6,079 & 5,979 & 100 & 0 & 0 & 0 & 999,999,999 & 100 & 0.06000 & 6.00 \\\\ Color Meter & & & & & & & & \\\\  & & & & & & & \\\\  & & & & & & & \\\\  & & & & & & & \\\\ \\hline \\end{tabular}\n\nNon-Taxable Amount:\n\n3.84\n\nTaxable Amount:\n3.14\n\nInvoice Sub Total:\n\n6.98\n\nTax Total:\n\n0.27\n\nInvoice Total:\n\n**Type 7.25**\n\n**Invoice Description / Comments**\n\nMonthly invoice for Maintenance agreement covering the billing period of 08/01/2023 - 08/31/2023.\n\nInvoice Sub Total:\n\n7.25\n\n**Invoice Total:**\n\n7.25\n\n**Invoice Description / Comments**\n\nMonthly invoice for Maintenance agreement covering the billing period of 08/01/2023 - 08/31/2023.\n\nInvoice Description / Comments**\n\nMonthly invoice for Maintenance agreement covering the billing period of 08/01/2023 - 08/31/2023.\n\nInvoice Sub Total:\n\n7.25\n\n**Invoice Sub Total:**\n\n7.25\n\n**Invoice Sub Total:**\n\n7.25\n\n**Invoice Sub Total:**\n\n7.25\n\n**Invoice Sub Total:**\n\n7.25\n\n**Invoice Sub Total:**\n\n7.25\n\n**Invoice Sub Total:**\n\n7.25\n\n**Invoice Sub Total:**\n\n7.25\n\n**Invoice Sub Total:**\n\n7.25\n\n**Invoice Sub Total:**\n\n7.25\n\n**Invoice Sub Total:**\n\n7.25\n\n**Invoice Sub Total:**\n\n7.25\n\n**Invoice Sub Total:**\n\n7.25\n\n**Invoice Sub Total:**\n\n7.25\n\n**Invoice Sub Total:**\n\n7.25\n\n**Invoice Sub Total:**\n\n7.25\n\n**Invoice Sub Total:**\n\n7.25\n\n**Invoice Sub Total:**\n\n7.25\n\n**Invoice Sub Total:**\n\n7.25\n\n**Invoice Sub Total:**\n\n7.25\n\n**Invoice Sub Total:**\n\n7.25\n\n**Invoice Sub Total:**\n\n7.25\n\n**Invoice Sub Total:**\n\n7.25\n\n**Invoice Sub Total:**\n\n7.25\n\n**Invoice Sub Total:**\n\n7.25\n\n**Invoice Sub Total:**\n\n7.25\n\n**Invoice Sub Total:**\n\n7.25\n\n**Invoice Sub Total:**\n\n7.25\n\n**Invoice Sub Total:**\n\n7.25\n\n**Invoice Sub Total:**\n\n7.25\n\n**Invoice Sub Total:**\n\n7.25\n\n**Invoice Sub Total:**\n\n7.25\n\n**Invoice Sub Total:**\n\n7.25\n\n**Invoice Sub Total:**\n\n7.25\n\n**Invoice Sub Total:**\n\n7.25\n\n**Invoice Sub Total:**\n\n7.25\n\n**Invoice Sub Total:**\n\n7.25\n\n**Invoice Sub Total:**\n\n7.25\n\n**Invoice Sub Total:**\n\n7.25\n\n**Invoice Sub Total:**\n\n7.25\n\n**Invoice Sub Total:**\n\n7.25\n\n**Invoice Sub Total:**\n\n7.25\n\n**Invoice Sub Total:**\n\n7.25\n\n**Invoice Sub Total:**\n\n7.25\n\n**Invoice Sub Total:**\n\n7.25\n\n**Invoice Sub Total:**\n\n7.25\n\n**Invoice Sub Total:**\n\n7.25\n\n**Invoice Sub Total:**\n\n7.25\n\n**Invo Sub Total:**\n\n7.25\n\n**Invoice Sub Total:**\n\n7.25\n\n**Invoice Sub Total:**\n\n7.25\n\n**Invoice Sub Total:**\n\n7.25\n\n**Invoice Sub Total:**\n\n7.25\n\n**Invoice Sub Total:**\n\n7.25\n\n**Invoice Sub Total:**\n\n7.25\n\n**Invoice Sub Total:**\n\n7.25\n\n**Invoice Sub Total:**\n\n7.25\n\n**Invoice Sub Total:**\n\n7.25\n\n**Invoice Sub Total:**\n\n7.25\n\n**Invoice Sub Total:**\n\n7.25\n\n**Invoice Sub Total:**\n\n7.25\n\n**Invo Sub Total:**\n\n7.25\n**Invo Sub Total:\n\n7.25\n\n**Invo Sub Total:\n\n7.25\n\n**Invo Sub Total:**\n\n7.25\n\n**Invo Sub Total:\n\n7.25\n\n**Invo Sub Total:**\n\n7.25\n\n**Invo Sub Total:**\n\n7.25\n\n**Invo Sub Total:\n\n7.25\n\n**Invo Sub Sub Total:\n\n7.25\n\n**Invo Sub Sub Total:\n\n7.25\n\n**Invo\n\n**Conference on the 2016-2017**\n\\begin{tabular}{|c c c c c c c c c|} \\hline \\multicolumn{1}{|c|}{**Summary of Invoice Charges**} & \\multicolumn{1}{c|}{**Quantity**} & \\multicolumn{1}{c|}{**Unit Charge**} & \\multicolumn{1}{c|}{**Bill Amount**} \\\\ \\hline\n**Current Meter** & **Previous Meter** & **Meter Usage** & **Allowable** & **Sve. Cord** & **Crofts** & **Tier Range** & & & \\\\ \\hline\n24,717 & 24,717 & 0 & 0 & 0 & 0 & 999,999,999 & 0 & 0.00650 & 0.00 \\\\\n**B**\\&W Meier & & & & & & & & \\\\ \\hline\n**Current Meter** & **Previous Meter** & **Meter Usage** & **Allowable** & **Sve. Cord** & **Crofts** & **Tier Range** & & & \\\\ \\hline\n7,640 & 7,640 & 0 & 0 & 0 & 0 & 999,999,999 & 0 & 0.06000 & 0.00 \\\\ Color Motor & & & & & & & & & \\\\ \\hline \\multicolumn{1}{|c|}{**Invoice Sub Total:**} & \\multicolumn{1}{c|}{0.00} \\\\ \\multicolumn{1}{|c|}{**Tax Total:**} & \\multicolumn{1}{c|}{0.00} \\\\ \\multicolumn{1}{|c|}{**Invoice Total:**} & \\multicolumn{1}{c|}{0.00} \\\\ \\multicolumn{1}{|c|}{**Invoice Description / Comments**} & \\multicolumn{1}{c|}{**Invoice Total:**} & \\multicolumn{1}{c|}{**\\$0.00} \\\\ \\multicolumn{1}{|c|}{**Invoice Description / Comments**} & \\multicolumn{1}{c|}{**Invoice Description / Comments**} & \\multicolumn{1}{c|}{**Invoice Description / Comments**} & \\multicolumn{1}{c|}{**Invoice Description / Comments**} & \\multicolumn{1}{c|}{**Invoice Description / Comments**} & \\multicolumn{1}{c|}{**Invoice Description / Comments**} & \\multicolumn{1}{c|}{**Invoice Description / Comments**} & \\multicolumn{1}{c|}{**Invoice\n\n\\begin{tabular}{|c c|} \\hline\n**Summary of Invoice Charges** & **Quantity** Unit Charge & **Bill Amount** \\\\ \\hline \\hline Non-Taxable Amount: & 41.32 \\\\ Taxable Amount: & 33.81 \\\\ Invoice Sub Total: & 75.13 \\\\ Tax Total: & 3.21 \\\\ Invoice Total: & **\\$ 78.34** \\\\ \\hline \\end{tabular}\n\n**Invoice Description / Comments**\n\nMonthly invoice for Maintenance agreement covering the billing period of 08/01/2023 - 08/31/2023.\n\nInvoice 288986332\n\nBIZHUB C3801 COLOR A3 MFP/36 PPM\n\n\\begin{tabular}{|c c\n\n\\begin{tabular}{|c c c c c c c c c c|} \\hline \\multicolumn{1}{|c}{**Summary of Invoice Charges**} & \\multicolumn{1}{c}{} & \\multicolumn{1}{c}{} & \\multicolumn{1}{c}{} & \\multicolumn{1}{c}{} & \\multicolumn{1}{c}{} & \\multicolumn{1}{c}{} & \\multicolumn{1}{c}{} & \\multicolumn{1}{c}{} & \\multicolumn{1}{c}{} & \\multicolumn{1}{c}{} \\\\ \\hline\n**Current Meter** & **Previous Meter** & **Meter Usage** & **Allowable** & **Sve. Crd** & **Crellis** & **Tier Range** & & & & \\\\ \\hline\n7,594 & 7,326 & 268 & 0 & 0 & 0 & 999,996,999 & 268 & 0.06000 & 16.08 \\\\ Color Meter & & & & & & & Non-Taxable Amount: & 10.20 \\\\  & & & & & & Taxable Amount: & 8.36 \\\\  & & & & & & Invoice Sub Total: & 18.56 \\\\  & & & & & Tax Total: & 0.72 \\\\  & & & & & & Invoice Total: & **\\$ 19.28** \\\\ \\hline\n**Invoice Description / Comments** & & & & & & & & \\\\ \\hline Monthly invoice for Maintenance agreement covering the billing period of 08/01/2023 - 08/31/2023. & & & & & & & \\\\ Includes labor, parts, drums, staples and supplies. Excludes paper. & & & & & & & \\\\ \\hline \\multicolumn{1}{|c}{**Purchase Order Number**} & \\multicolumn{1}{c}{} & \\multicolumn{1}{c}{} & \\multicolumn{1}{c}{} & \\multicolumn{1}{c}{} & \\multicolumn{1}{c}{} & \\multicolumn{1}{c}{} & \\multicolumn{1}{c}{} \\\\ \\hline  & & & & JAMS IN & & & & 2 EMBARCADERO CTR & \\\\\n**Customer Contract** & **Contract Coverage Dates** & & & & & & & \\\\ \\hline  & & & & & & & & \\\\ \\hline  & & & & & & & & \\\\ \\hline\n**Summary of Invoice Charges** & & & & & & & & \\\\ \\hline Invoice 288985411 & & & & & & & & \\\\ BLZHUB C360 WITH DF-714 & & & & & & & & \\\\ \\hline\n**Current Meter** & **Previous Meter** & **Meter Usage** & & & & & & \\\\ \\hline\n19,213 & 17,939 & 1,274 & 0 & 0 & 0 & 999,999,999 & 1,274 & 0.00650 & 8.28 \\\\ B\\&W Meter & & & & & & & & \\\\ \\hline\n**Current Meter** & **Previous Meter** & **Meter Usage** & & & & & & \\\\ \\hline\n5,713 & 5,500 & 213 & 0 & 0 & 0 & 999,996,999 & 213 & 0.06000 & 12.78 \\\\ Color Meter & & & & & & & Non-Taxable Amount: & 11.58 \\\\  & & & & & & & Taxable Amount: & 9.48 \\\\  & & & & & & Invoice Sub Total: & 21.06 \\\\  & & & & & & Tax Total: & 0.83 \\\\  & & & & & & Invoice Total: & \\$ 21.89** \\\\ \\hline \\multicolumn{1}{|c}{**Invoice Description / Comments**} & & & & & & & \\\\ \\hline Monthly invoice for Maintenance agreement covering the billing period of 08/01/2023 - 08/31/2023. & & & & & & & \\\\ Includes labor, parts, drums, staples and supplies. Excludes paper. & & & & & & & \\\\ \\hline \\multicolumn{1}{|c}{**Purchase Order Number**} & \\multicolumn{1}{c}{} & \\multicolumn{1}{c}{} & \\multicolumn{1}{c}{} & \\multicolumn{1}{c}{} & \\multicolumn{1}{c}{} & \\multicolumn{1}{c}{} & \\multicolumn{1}{c}{} & \\multicolumn{1}{c}{} \\\\ \\hline  & & JAMS INC & & & & & & \\\\ \\hline SUITE 700 & & & & & & & & \\\\ \\hline\n**Customer Contract** & **Contract Coverage Dates** & & & & & & \\\\ \\hline  & & & & & & WALNU CTREEKA 94597-7988 & \\\\ \\end{tabular}\n\n\\begin{tabular}{|c|c|} \\hline\n**Purchase Order Number** & & **Equipment Location** & 1155811 \\\\ \\hline  & JAMS INC & & & & \\\\ \\hline SUITE 700 & & & & 1255 TREAT BLVD \\\\\n**Customer Contract** & **Contract Coverage Dates** & & & WALNU CTREEKA 94597-7988 & \\\\ \\end{tabular}\n\n\\begin{tabular}{|c c c c c c c c c c|} \\hline \\multicolumn{1}{|c}{**Summary of Invoice Charges**} & \\multicolumn{1}{c}{**Quantity**} & \\multicolumn{1}{c}{**Unit**} & \\multicolumn{1}{c}{**Charge**} & \\multicolumn{1}{c}{**Bill Amount**} \\\\ \\hline Invoice 288985412 & \\multicolumn{6}{c}{**Unit Contract: 62206468**} \\\\ BLZHUB C40501 COLOR MFP & \\multicolumn{6}{c}{**AAJN011200569**} & 1 & \\\\ \\cline{4-10}\n**Current Meter** & **Previous Meter** & **Meter Usage** & **Allowable** & **Svc. Ord** & **Average** & **Credits** & **Tier Range** & & \\\\ \\hline\n1,563 & 1,543 & 20 & 0 & 0 & 0 & 999,999,999 & 20 & 0.00650 & 0.13 \\\\ B8W Meter & & & & & & & & & \\\\ \\hline\n**Current Meter** & **Previous Meter** & **Meter Usage** & **Allowable** & **Svc. Ord** & **Aggregate** & & & & \\\\ \\hline\n417 & 396 & 21 & 0 & 0 & 0 & 999,999,999 & 21 & 0.06000 & 1.26 \\\\ Color Meter & & & & & & & & & \\\\ \\hline \\multicolumn{1}{c}{} & \\multicolumn{1}{c}{} & \\multicolumn{1}{c}{} & \\multicolumn{1}{c}{} & \\multicolumn{1}{c}{} & \\multicolumn{1}{c}{} & \\multicolumn{1}{c}{} & \\multicolumn{1}{c}{} & \\multicolumn{1}{c}{} & \\multicolumn{1}{c}{} & \\multicolumn{1}{c}{} \\\\ \\end{tabular}\n\n**Non-Taxable Amount:** & 0.76 \\\\ Taxable Amount: & 0.63 \\\\ Invoice Sub Total: & 1.39 \\\\ Tax Total: & 0.07 \\\\ Invoice Total: & **§ 1.46** \\\\ \\hline \\multicolumn{1}{c}{} & \\multicolumn{1}{c}{} & \\multicolumn{1}{c}{} & \\multicolumn{1}{c}{} & \\multicolumn{1}{c}{} & \\multicolumn{1}{c}{} & \\multicolumn{1}{c}{} \\\\ \\end{tabular}\n\n**Invoice Description / Comments**\n\nMonthly invoice for Maintenance agreement covering the billing period of 09/01/2023 - 08/31/2023.\n\nIncludes labor, parts, drums, staples and supplies. Excludes paper.\n\n\\begin{tabular}{|c|c|} \\hline\n**Purchase Order Number** & \\multicolumn{3}{c|}{**Equipment Location**} & \\multicolumn{1}{c}{1190964} \\\\ \\hline  & & JAMS INC & \\\\  & & LASHANN JONES & \\\\\n**Customer Contract** & **Contract Coverage Dates** & 71 S WACKER DR & \\\\  & & CHICAGO IL 60606 4637 & \\\\ \\hline  & 05/26/2021-05/25/2024 & & & & \\\\ \\hline \\multicolumn{1}{c}{} & \\multicolumn{1}{c}{} & \\multicolumn{1}{c}{} & \\multicolumn{1}{c}{} & \\multicolumn{1}{c}{} & \\multicolumn{1}{c}{} \\\\ \\end{tabular}\n\n**Summary of Invoice Charges**\n\nInvoice 288986425 & \\multicolumn{6}{c}{**Unit Contract: 62332354**} \\\\ BLZHUB C3601 WITH DF-714 & \\multicolumn{6}{c}{**AA2J011017028**} & 1 & \\\\ \\cline{4-10}\n**Current Meter** & **Previous Meter** & **Meter Usage** & **Allowable** & **Svc. Ord** & **Credits** & **Tier Range** & & \\\\ \\hline\n445 & 362 & 83 & 0 & 0 & 0 & 999,999,999 & 83 & 0.00650 & 0.54 \\\\ B8W Meter & & & & & & & & \\\\ \\hline\n**Current Meter** & **Previous Meter** & **Meter Usage** & **Allowable** & **Svc. Ord** & **Credits** & **Tier Range** & & \\\\ \\hline\n257 & 232 & 25 & 0 & 0 & 0 & 999,999,999 & 25 & 0.06000 & 1.50 \\\\ Color Meter & & & & & & & & \\\\ \\hline \\multicolumn{10}{c}{} & \\multicolumn{1}{c}{} & \\multicolumn{1}{c}{} & \\multicolumn{1}{c}{} & \\multicolumn{1}{c}{} & \\multicolumn{1}{c}{} & \\multicolumn{1}{c}{} & \\multicolumn{1}{c}{} \\\\ \\end{tabular}\n\n**Invoice Description / Comments**\n\nMonthly invoice for Maintenance agreement covering the billing period of 08/01/2023 - 08/31/2023.\n\nInvoice Sub Total: & 2.04 \\\\ Tax Total: & 0.08 \\\\ Invoice Total: & **§ 2.12** \\\\ \\hline \\multicolumn{10}{c}{} \\\\ \\end{tabular}\n\n**Invoice Description / Comments**\n\nMonthly invoice for Maintenance agreement covering the billing period of 08/01/2023 - 08/31/2023.\n\nInvoice Sub Total: & 1.39 \\\\ Tax Total: & 0.07 \\\\ Invoice Total: & **§ 1.46** \\\\ \\hline \\multicolumn{10}{c}{} \\\\ \\end{tabular}\n\n**Invoice Description / Comments**\n\nMonthly invoice for Maintenance agreement covering the billing period of 08/01/2023 - 08/31/2023.\n\nInvoice Description / Comments**\n\nMonthly invoice for Maintenance agreement covering the billing period of 08/01/2023 - 08/31/2023.\n\nInvoice Description / Comments**\n\nMonthly invoice for Maintenance agreement covering the billing period of 08/01/2023 - 08/31/2023.\n\nInvoice Sub Total: & 1.39 \\\\ Tax Total: & 0.07 \\\\ Tax Total: & 0.07 \\\\ Tax Total: & **§ 1.46** \\\\ \\hline \\multicolumn{10}{c}{} & \\multicolumn{1}{c}{} & \\multicolumn{1}{c}{} \\\\ \\end{tabular}\n\n**Invoice Description / Comments**\n\nMonthly invoice for Maintenance agreement covering the billing period of 08/01/2023 - 08/31/2023.\n\nInvoice Sub Total: & 1.39 \\\\ Tax Total: & 0.07 \\\\ Tax Total: & 0.07 \\\\ Tax Total: & 0.07 \\\\ Tax Total: & **§ 1.46** \\\\ \\hline \\multicolumn{10}{c}{} \\\\ \\end{tabular}\n\n**Invoice Description / Comments**\n\nMonthly invoice for Maintenance agreement covering the billing period of 08/01/2023 - 08/31/2023.\n\nInvoice Sub Total: & 1.39 \\\\ Tax Total: & 0.07 \\\\ Tax Total: & 0.07 \\\\ Tax Total: & **§ 1.46** \\\\ \\hline \\multicolumn{10}{c}{} \\\\ \\end{tabular}\n\n**Invoice Description / Comments**\n\nMonthly invoice for Maintenance agreement covering the billing period of 08/01/2023 - 08/31/2023.\n\nInvoice Sub Total: & 1.46 \\\\ Tax Total: & 0.07 \\\\ Tax Total: & **§ 1.46** \\\\ \\hline \\multicolumn{10}{c}{} & \\multicolumn{1}{c}{} \\\\ \\end{tabular}\n\n**Invoice Description / Comments**\n\nMonthly invoice for Maintenance agreement covering the billing period of 08/01/2023 - 08/31/2023.\n\nInvoice Sub Total: & 1.46 \\\\ Tax Total: & 0.07 \\\\ Tax Total: & **§ 1.46** \\\\ \\hline \\multicolumn{10}{c}{} & \\multicolumn{1}{c}{} & \\multicolumn{1}{c}{} \\\\ \\end{tabular}\n\n**Invoice Description / Comments**\n\nMonthly invoice for Maintenance agreement covering the billing period of 08/01/2023 - 08/31/2023.\n\nInvoice Sub Total: & 1.46 \\\\ Tax Total: & 0.07 \\\\ Tax Total: & **§ 1.46** \\\\ \\hline \\multicolumn{10}{c}{} & \\multicolumn{1}{c}{} \\\\ \\end{tabular}\n**Invoice Sub Total: & 1.46 \\\\ Tax Total: & 0.07 \\\\ Tax Total: & **§ 1.46** \\\\ \\hline \\multicolumn{10}{c}{} \\\\ \\end{tabular}\n\n**Invoice Sub Total: & 1.46 \\\\ Tax Total: & 0.07 \\\\ Tax Total: & **§ 1.46** \\\\ \\hline \\multicolumn{10}{c}{} \\\\ \\end{tabular}\n\n**Invoice Sub Total: & 1.46 \\\\ Tax Total: & 0.07 \\\\ Tax Total: & **§ 1.46** \\\\ \\hline \\multicolumn{10}{c}{} \\\\ \\end{tabular}\n\n**Invoice Sub Total: & 1.46 \\\\ Tax Total: & 0.07 \\\\ Tax Total: & **§ 1.46** \\\\ \\hline \\multicolumn{10}{c}{} \\\\ \\end{tabular}\n\n**Invoice Sub Total: & 1.46 \\\\ Tax Total: & 0.07 \\\\ Tax Total: & **§ 1.46** \\\\ \\hline \\multicolumn{10}{c}{} \\\\ \\end{tabular}\n\n**Invoice Sub Total: & 1.46 \\\\ Tax Total: & 0.07 \\\\ Tax Total: & **§ 1.46** \\\\ \\hline \\multicolumn{10}{c}{} \\\\ \\end{tabular}\n**Invoice Sub Total\n\n\\begin{tabular}{|c c|} \\hline\n**Summary of Invoice Charges** & **Quantity** Unit Charge & **Bill Amount** \\\\ \\hline \\hline Non-Taxable Amount: & 0.61 \\\\ Taxable Amount: & 0.50 \\\\ Invoice Sub Total: & 1.11 \\\\ Tax Total: & 0.05 \\\\ Invoice Total: & **\\$ 1.16** \\\\ \\hline \\end{tabular}\n\n**Invoice Description / Comments**\n\nMonthly invoice for Maintenance agreement covering the billing period of 08/01/2023 - 08/31/2023.\n\nInvoice 288986494\n\nBIZHUB C300I COLOR A3 MFP/30 PPM\n\nA2K011008703\n\n**Current Mater** Previous Meter Usage & **Allowable** Svc.Crd & \n\\begin{tabular}{} \\end{tabular} & Tier Range \\\\ \\hline\n2,561 & 2,542 & 19 & 0 & 0 \\\\ B\\&W Mater & & & \\\\ \\hline\n**Current Mater** Previous Meter Usage & **Allowable** Svc.Crd & \n\\begin{tabular}{} \\end{tabular} & Tier Range \\\\ \\hline\n922 & 901 & 21 & 0 & 0 & 999,999,999 \\\\ Color Meter & & & & & \\\\ \\hline \\end{tabular}\n\n**Invoice Description / Comments**\n\nMonthly invoice for Maintenance agreement covering the billing period of 08/01/2023 - 08/27/2023.\n\nInvoice 288986497\n\n**Invoice 28986497**\n\nBIZHUB C300I COLOR A3 MFP/30 PPM\n\nA2K011008703\n\n**Invoice 28986497**\n\nBIZHUB C300I COLOR A3 MFP/30 PPM\n\nA2K011008703\n\n**Invoice 28986497**\n\nBIZHUB C300I COLOR A3 MFP/30 PPM\n\nA2K011008703\n\n**Invoice 28986497**\n\nBIZHUB C300I COLOR A3 MFP/30 PPM\n\nA2K011008703\n\n**Invoice 28986497**\n\nBIZHUB C300I COLOR A3 MFP/30 PPM\n\nA2K011008703\n\n**Invoice 28986497**\n\nBIZHUB C300I COLOR A3 MFP/30 PPM\n\nA2K011008703\n\n**Invoice 28986497**\n\nBIZHUB C300I COLOR A3 MFP/30 PPM\n\nA2K011008703\n\n**Invoice 28986497**\n\nBIZHUB C300I COLOR A3 MFP/30 PPM\n\nA2K011008703\n\n**Invoice 28986497**\n\nBIZHUB C300I COLOR A3 MFP/30 PPM\n\nA2K011008703\n\n**Invoice 28986497**\n\nBIZHUB C300I COLOR A3 MFP/30 PPM\n\nA2K011008703\n\n**Invoice 28986497**\n\nBIZHUB C300I COLOR A3 MFP/30 PPM\n\nA2K011008703\n\n**Invoice 28986497**\n\nBIZHUB C300I COLOR A3 MFP/30 PPM\n\nA2K011008703\n\n**Invoice 28986497**\n\nBIZHUB C300I COLOR A3 MFP/30 PPM\n\nA2K011008703\n\n**Invoice 28986497**\n\nBIZHUB C300I COLOR A3 MFP/30 PPM\n\nA2K011008703\n\n**Invoice 28986497**\n\nBIZHUB C300I COLOR A3 MFP/30 PPM\n\nA2K011008703\n\n**Invoice 28986497**\n\nBIZHUB C300I COLOR A3 MFP/30 PPM\n\nA2K011008703\n\n**Invoice 28986497**\n\nBIZHUB C300I COLOR A3 MFP/30 PPM\n\nA2K011008703\n\n**Invoice 28986497**\n\nBIZHUB C300I COLOR A3 MFP/30 PPM\n\nA2K011008703\n\n**Invoice 28986497**\n\nBIZHUB C300I COLOR A3 MFP/30 PPM\n\nA2K011008703\n\n**Invoice 28986497**\n\nBIZHUB C300I COLOR A3 MFP/30 PPM\n\nA2K011008703\n\n**Invoice 28986497**\n\nBIZHUB C300I COLOR A3 MFP/30 PPM\n\nA2K011008703\n\n**Invoice 28986497**\n\nBIZHUB C300I COLOR A3 MFP/30 PPM\n\nA2K011008703\n\n**Invoice 28986497**\n\nBIZHUB C300I COLOR A3 MFP/30 PPM\n\nA2K011008703\n\n**Invoice 28986497**\n\nBIZHUB C300I COLOR A3 MFP/30 PPM\n\nA2K011008703\n\n**Invoice 28986497**\n\nBIZHUB C300I COLOR A3 MFP/30 PPM\n\nA2K011008703\n\n**Invoice 28986497**\n\nBIZHUB C300I COLOR A3 MFP/30 PPM\n\nA2K011008703\n\n**Invoice 28986497**\n\nBIZHUB C300I COLOR A3 MFP/30 PPM\n\nA2K011008703\n\n**Invoice 28986497**\n\nBIZHUB C300I COLOR A3 MFP/30 PPM\n\nA2K011008703\n\n**Invoice 28986497**\n\nBIZHUB C300I COLOR A3 MFP/30 PPM\n\nA2K011008703\n\n**Invoice 28986497**\n\nBIZHUB C300I COLOR A3 MFP/30 PPM\n\nA2K011008703\n\n**Invoice 28986497**\n\nBIZHUB C300I COLOR A3 MFP/30 PPM\n\nA2K011008703\n\n**Invoice 28986497**\n\nBIZHUB C300I COLOR A3 MFP/30 PPM\n\nA2K011008703\n\n**Invoice 28986497**\n\nBIZHUB C300I COLOR A3 MFP/30 PPM\n\nA2K011008703\n\n**Invoice 28986497**\n\nBIZHUB C300I COLOR A3 MFP/30 PPM\n\nA2K011008703\n\n**Invoice 28986497**\n\nBIZHUB C300I COLOR A3 MFP/30 PPM\n\nA2K011008703\n\n**Invoice 28986497**\n\nBIZHUB C300I COLOR A3 MFP/30 PPM\n\nA2K011008703\n\n**Invoice 28986497**\n\nBIZHUB C300I COLOR A3 MFP/30 PPM\n\nA2K011008703\n\n**Invoice 28986497**\n\nBIZHUB C300I COLOR A3 MFP/30 PPM\n\nA2K011008703\n\n**Invoice 28986497**\n\nBIZHUB C300I COLOR A3 MFP/30 PPM\n\nA2K011008703\n\n**Invoice 28986497**\n\nBIZHUB C300I COLOR A3 MFP/30 PPM\n\nA2K011008703\n\n**Invoice 28986497**\n\nBIZHUB C300I COLOR A3 MFP/30 PPM\n\nA2K011008703\n\n**Invoice 28986497**\n\nBIZHUB C300I COLOR A3 MFP/30 PPM\n\nA2K011008703\n\n**Invoice 28986497**\n\nBIZHUB C300I COLOR A3 MFP/30 PPM\n\nA2K011008703\n\n**Invoice 28986497**\n\nBIZHUB C300I COLOR A3 MFP/30 PPM\n\nA2K011008703\n\n**Invoice 28986497**\n\nBIZHUB C300I COLOR A3 MFP/30 PPM\n\nA2K011008703\n\n**Invoice 28986497**\n\nBIZHUB C300I COLOR A3 MFP/30 PPM\n\nA2K011008703\n\n**Invoice 28986497**\n\nBIZHUB C300I COLOR A3 MFP/30 PPM\n\nA2K011008703\n**Invoice 28986497**\n\nBIZHUB C300I COLOR A3 MFP/30 PPM\n\nA2K011008703\n\n**Invoice 28986497**\n\nBIZHUB C300I COLOR A3 MFP/30 PPM\n\nA2K011008703\n\n**Invoice 28986497**\n\nBIZHUB C300I COLOR A3 MFP/30 PPM\n\nA2K011008703\n**Invoice 28986497**\n\nBIZHUB C300I COLOR A3 MFP/30 PPM\n\nA2K011008703\n\n**Invoice 28986497**\n\nBIZHUB C300I COLOR A3 MFP/30 PPM\n\nA2K011008703\n**Invoice 28986497**\n\nBIZHUB C300I COLOR A3 MFP/30 PPM\n\nA2K011008703\n\n\\begin{tabular}{|c c c c c c c c c c|} \\hline \\hline \\multicolumn{1}{|c|}{**Summary of Invoice Charges**} & \\multicolumn{1}{c|}{**Quantity**} & \\multicolumn{1}{c|}{**Unit**} & \\multicolumn{1}{c|}{**Bill Amount**} \\\\ \\hline\n**Current Meter** & **Previous Meter** & **Meter Usage** & **Allowable** & **Svc. Crd** & **Acregate** & & & & & \\\\\n\n\\begin{tabular}{|l c c c c c c c c c c|} \\hline \\multicolumn{1}{|c}{**Summary of Invoice Charges**} & \\multicolumn{1}{c}{**Quantity**} & \\multicolumn{1}{c}{**Unit**} & \\multicolumn{1}{c}{**Charge**} & \\multicolumn{1}{c}{**Bill Amount**} \\\\ \\hline Invoice 288986534 & \\multicolumn{1}{c}{**Unit Contract:** 623565610} & \\multicolumn{1}{c}{**} & \\multicolumn{1}{c}{**} & \\multicolumn{1}{c}{**} & \\multicolumn{1}{c}{**} & \\multicolumn{1}{c}{**} & \\multicolumn{1}{c}{**} & \\multicolumn{1}{c}{**} \\\\ BLZHUB C3001 WITH DF-714 & \\multicolumn{1}{c}{**AA2K011012440**} & \\multicolumn{1}{c}{1} & & & & & & \\\\ \\multicolumn{1}{|c}{**Current Meter**} & **Previous Meter** & **Meter Usage** & **Allowable** & **Svc. Ord** & **Average** & **Credits** & **Tier Range** & & & \\\\ \\hline\n19,701 & 16,016 & 3,685 & 0 & 0 & 0 & 999,999,999 & 3,685 & 0.00650 & 23.95 \\\\ B8W Meter & \\multicolumn{1}{c}{} & & & & & & & & \\\\ \\hline\n**Current Meter** & **Previous Meter** & **Meter Usage** & **Allowable** & **Svc. Ord** & **Aggregate** & & & & \\\\ \\hline\n\n**Conference on the 2016-1000**\n\\begin{tabular}{|c c c c c c c c c|} \\hline \\multicolumn{1}{|c|}{**Summary of Invoice Charges**} & \\multicolumn{1}{c|}{\\begin{tabular}{c} **Quantity** \\\\ **Chat** \\\\ **Charge** \\\\ \\end{tabular} } & \\multicolumn{1}{c|}{\n\\begin{tabular}{c} **Bill Amount**\n\\begin{tabular}{|l c c c c c c c c c|} \\hline \\multicolumn{1}{|c|}{**Summary of Invoice Charges**} & \\multicolumn{1}{c|}{**Quantity**} & \\multicolumn{1}{c|}{**Unit**} & \\multicolumn{1}{c|}{**Charge**} & \\multicolumn{1}{c|}{**Bill Amount**} \\\\ \\hline Invoice 288986614 & \\multicolumn{6}{c|}{**Unit Contract:** 62207040} \\\\ \\multicolumn{1}{|c|}{*B1Z+UB C6501 65 PPM COLOR MFP} & \\multicolumn{6}{c|}{**AA7N011003751**} & 1 & \\\\ \\multicolumn{1}{|c|}{**Current Meter**} & \\multicolumn{1}{c|}{**Previous Meter**} & \\multicolumn{1}{c|}{**Meter Usage**} & \\multicolumn{1}{c|}{**Allowable**} & \\multicolumn{1}{c|}{**Svc. Ord**} & \\multicolumn{1}{c|}{**Average**} & \\multicolumn{1}{c|}{**Credits**} & \\multicolumn{1}{c|}{**Tier Range**} \\\\ \\hline\n5,758 & 5,748 & 10 & 0 & 0 & 0 & 999,999,999 & 10 & 0.00650 & 0.07 \\\\ B8W Meter & & & & & & & & & \\\\ \\hline\n**Current Meter** & **Previous Meter** & **Meter Usage** & **Allowable** & **Svc. Ord** & **Aggregate** & & & & \\\\ \\multicolumn{1}{|c|}{**C**ulti Ritter Range**} & \\multicolumn{1}{c|}{**Previous Meter**} & \\multicolumn{1}{c|}{**After Usage**} & \\multicolumn{1}{c|}{**Allowable**} & \\multicolumn{1}{c|}{**Svc. Ord**} & \\multicolumn{1}{c|}{**Credits**} & \\multicolumn{1}{c|}{**Tier Range**} & \\multicolumn{1}{c|}{**Credits**} & \\multicolumn{1}{c|}{**Tier Range**} \\\\ \\hline\n\n\\begin{tabular}{\n\n\\begin{tabular}{|c c|} \\hline\n\n\\begin{tabular}{|c c c c c c c c|} \\hline \\multicolumn{1}{|c}{**Summary of Invoice Charges**} & \\multicolumn{1}{c}{**Quantity**} & \\multicolumn{1}{c}{**Unit**} & \\multicolumn{1}{c}{**Charge**} & \\multicolumn{1}{c}{**Bill Amount**} \\\\ \\hline\n**Current Meter** & **Previous Meter** & **Meter Usage** & **Allowable** & **Svc. Crd** & **Aggregate** & & & \\\\\n5,026 & 4,926 & 100 & 0 & 0 & 0 & 999,996,999 & 100 & 0.06000 & 6.00 \\\\ Color Meter & & & & & & Non-Taxable Amount: & 3.84 & \\\\  & & & & & & Taxable Amount: & 3.14 & \\\\  & & & & & & Invoice Sub Total: & 6.98 & \\\\  & & & & & Tax Total: & 0.28 & \\\\  & & & & & & Invoice Total: & **\\$ 7.26** \\\\ \\hline \\multicolumn{1}{|c}{**Invoice Description / Comments**} & \\multicolumn{1}{c}{} & \\multicolumn{1}{c}{} & \\multicolumn{1}{c}{} & \\multicolumn{1}{c}{} & \\multicolumn{1}{c}{} & \\multicolumn{1}{c}{} & \\multicolumn{1}{c}{} \\\\ \\hline Monthly invoice for Maintenance agreement covering the billing period of 08/01/2023 - O8/31/2023. & & & & & & \\\\ Includes labor, parts, drums, staples and staples. Excludes paper. & & & & & & \\\\ \\hline \\multicolumn{1}{|c}{**Purchase Order Number**} & \\multicolumn{1}{c}{**Equipment Location**} & \\multicolumn{1}{c}{} & \\multicolumn{1}{c}{} & \\multicolumn{1}{c}{} & \\multicolumn{1}{c}{} & \\multicolumn{1}{c}{} \\\\ \\hline  & & JAMS & & & & JESSICA DE LEON & & & \\\\\n**Customer Contract** & **Contract Coverage Dates** & 1201 W PEACHITREE ST NW & & & & & \\\\\n6,807 & 6,657 & 150 & 0 & 0 & 999,996,999 & 150 & 0.01800 & 2.70 \\\\ Total Meter & & & & & Non-Taxable Amount: & 1.28 & \\\\  & & & & & Taxable Amount: & 1.22 & \\\\  & & & & & Invoice Sub Total: & 2.70 & \\\\  & & & & Tax Total: & 0.11 & \\\\\n**Invoice Description / Comments** & & & & & & & \\\\ \\hline Monthly invoice for Maintenance agreement covering the billing period of 08/01/2023 - O8/31/2023. & & & & & & \\\\ Includes labor, parts, drums, and supplies. Excludes staples and paper. & & & & & & \\\\ \\hline \\multicolumn{1}{|c}{**Purchase Order Number**} & \\multicolumn{1}{c}{**Equipment Location**} & \\multicolumn{1}{c}{} & \\multicolumn{1}{c}{} & \\multicolumn{1}{c}{} & \\multicolumn{1}{c}{} & \\multicolumn{1}{c}{} \\\\ \\hline \\multicolumn{1}{|c}{} & JAMS & & & & & \\\\ STE 1600 - JOSIE CARE & & & & & & & \\\\\n160 W SANTA CLARA ST & & & & & & \\\\ SAN JOSE CA 95113-1767 & & & & & & \\\\ \\hline \\multicolumn{1}{|c}{**Summary of Invoice Charges**} & \\multicolumn{1}{c}{**Quantity**} & \\multicolumn{1}{c}{**Unit**} & \\multicolumn{1}{c}{} & \\multicolumn{1}{c}{} & \\multicolumn{1}{c}{} & \\multicolumn{1}{c}{} \\\\ \\hline Invoice 288986720 & \\multicolumn{1}{c}{**Unit Contract:** 62290856} & \\multicolumn{1}{c}{} & \\multicolumn{1}{c}{} & \\multicolumn{1}{c}{} & \\multicolumn{1}{c}{} & \\multicolumn{1}{c}{} \\\\ BIZ-UUB C40501 COLOR MFP & & & & & & & \\\\ \\hline \\end{tabular}\n\n**Copy**\n\n**SUMMARY DETAIL**\n\n\\begin{tabular}{|c c c c c c c c|} \\hline \\multicolumn{3}{|c|}{**Purchase Order Number**} & \\multicolumn{3}{c|}{**Equipment Location**} & \\multicolumn{2}{c|}{1155811} \\\\ \\hline  & & & JAMS IN & & & & \\\\  & & & & & & & & \\\\  & & & & & & & & \\\\  & & & & & & & & \\\\ \\hline\n**Customer Contract** & & & & & & & & & \\\\  & & & & & & & & & \\\\  & & & & & & & & & \\\\  & & & & & & & & & \\\\  & & & & & & & & & \\\\  & & & & & & & & & \\\\  & & & & & & & & & \\\\ \\hline\n\n**Please pay online at www.MyKMBS.com using your**\n\n**paper id or remit payment to:**\n\nKONICA MINOLTA BUSINESS SOLUTIONS\n\nUSA INC\n\nDEPT. LA 22988\n\nPASADENA CA 91185-2988\n\n**Payert ID:** 1651399\n\n**Invoice Nbr:** 9009520780\n\n**Payent Due Date:** 09/30/2023\n\n**Payent Terms are NET 30 DAYS**\n\n**Invoice Date:** 08/31/2023\n\n**Bill / Mail To:**\n\nJAMS INC\n\nSTE 350\n\n18881 VON KARMAN AVE\n\nIRVINE CA 92612-1500\n\n**I'RVINE CA 92612-6589**\n\n**Purchase Order Number**\n\n**Customer Contract**\n\n**Contract Coverage Dates**\n\n08/25/2020-08/14/2026\n\n**Invoice Comments**\n\n**Summary Invoice Coverage Periods**\n\n08/01/2023-08/01/2023 08/01/2023-08/24/2023\n\n08/01/2023-08/26/2023 08/01/2023-08/27/2023 08/01/2023-08/31/2023 08/02/2023-08/31/2023 08/15/2023-08/31/2023 08/25/2023-08/31/2023 08/26/2023-08/31/2023 08/30/2023-08/31/2023\n\n**Summary Invoice Coverage Periods**\n\n08/01/2023-08/01/2023 08/01/2023-08/08/2023 08/01/2023-08/24/2023\n\n08/01/2023-08/26/2023 08/01/2023-08/27/2023 08/01/2023-08/27/2023-08/31/2023\n\n**Invoice Comments**\n\n**Summary Invoice Coverage Periods**\n\n08/01/2023-08/01/2023 08/01/2023-08/08/2023 08/01/2023-08/24/2023\n\n08/01/2023-08/26/2023 08/01/2023-08/27/2023 08/01/2023-08/27/2023-08/31/2023\n\n**Invoice Sub Total:** 2,210.31\n\n**Tax Total:** 97.33\n\n**Invoice TOTAL:** **SS 2,307.64**\n\n**Please pay online at www.MyKMBS.com using your**\n\n**paper id or remit payment to:**\n\nKONICA MINOLTA BUSINESS SOLUTIONS\n\nUSA INC\n\nDEPT. LA 22988\n\n**Payasdena CA 91185-2988**\n\n**Payent Due Date:** 09/30/2023\n\n**Pay This Amount:** $ 2,307.64**\n\n**Pay\n\n**Konica Minolta Business Solutions U.S.A., Inc.**\n\n**BILLING AND PAYMENT INQUIRIES**\n\nPlease contact our CUSTOMER HELP DESK if you have any questions pertaining to:\n\nBilling or Account Status\n\nAddress Changes\n\nPayment by Credit Card (See Below)\n\n\\begin{tabular}{l l} TELEPHONE NO. : & 1-800-695-4195 \\\\ E-MAIL ADDRESS : & \\begin{tabular}{l} custhelp(@kmbs.konicaminolta.us \\\\ FAX NO. : \\\\ or \\\\ WRITE US AT : \\\\ \\end{tabular} & \n\\begin{tabular}{l} Konica Minolta Business Solutions \\\\ 100 Williams Dr. \\\\ Ramsey,NJ 07446 \\\\ Attn. Customer Help Desk \\\\ \\end{tabular} \\\\ \\end{tabular}\n\nOur Customer Service Representatives are available to assist you weekdays from 8:30 AM to 5:00 PM. Be sure to include your Account Name, Account Number and Invoice Number on all correspondence.\n\n\\begin{tabular}{l l} Address Changes & \\\\  & \\\\  & \\\\ Account No. & 1651399 \\\\ Company Name & \\\\ Company Address & \\\\  & \\\\  & \\\\  & \\\\  & \\\\  & \\\\  & \\\\  & \\\\  & \\\\  & \\\\  & \\\\  & \\\\ \\end{tabular} (Fax or Mail to the above Address)\n\nSignature: & Date:\n\nTitle \\\\ \\end{tabular} You are not required to pay any disputed amount pending the resolution of the billing discrepancy inquiry. Payment is still required for undisputed charges that are billed to you. Disputes must be reported in writing within 30 days of receipt of this invice. Thank You!"
          },
          "metadata": {},
          "execution_count": 10
        }
      ]
    },
    {
      "cell_type": "markdown",
      "source": [
        "## **Batch Processing PDFs**"
      ],
      "metadata": {
        "id": "U7znlfGsNK7T"
      }
    },
    {
      "cell_type": "code",
      "source": [
        "!mkdir pdfs\n",
        "!curl -o pdfs/lec_1.pdf https://ocw.mit.edu/courses/8-04-quantum-physics-i-spring-2016/7f930e013cef9cd7dec5aa88baa83f0a_MIT8_04S16_LecNotes1.pdf -o pdfs/lec_2.pdf https://ocw.mit.edu/courses/8-04-quantum-physics-i-spring-2016/afaef4b8271759d352ac75c4e85eaee6_MIT8_04S16_LecNotes2.pdf\n",
        "!curl -o pdfs/lec_3.pdf https://ocw.mit.edu/courses/8-04-quantum-physics-i-spring-2016/f928b8dce3d6a218fddda9617c5eb4f2_MIT8_04S16_LecNotes3.pdf  -o pdfs/lec_4.pdf https://ocw.mit.edu/courses/8-04-quantum-physics-i-spring-2016/0c07cbdc9c352c39eb9539b31ded90d7_MIT8_04S16_LecNotes4.pdf"
      ],
      "metadata": {
        "id": "iOPO-IwDUs2o",
        "colab": {
          "base_uri": "https://localhost:8080/"
        },
        "outputId": "e4c9da7d-d53e-446a-c934-6a9f8bd545a6"
      },
      "execution_count": null,
      "outputs": [
        {
          "output_type": "stream",
          "name": "stdout",
          "text": [
            "  % Total    % Received % Xferd  Average Speed   Time    Time     Time  Current\n",
            "                                 Dload  Upload   Total   Spent    Left  Speed\n",
            "\r  0     0    0     0    0     0      0      0 --:--:-- --:--:-- --:--:--     0\r100  303k  100  303k    0     0  1153k      0 --:--:-- --:--:-- --:--:-- 1154k\n",
            "  % Total    % Received % Xferd  Average Speed   Time    Time     Time  Current\n",
            "                                 Dload  Upload   Total   Spent    Left  Speed\n",
            "100  509k  100  509k    0     0   264k      0  0:00:01  0:00:01 --:--:--  264k\n",
            "  % Total    % Received % Xferd  Average Speed   Time    Time     Time  Current\n",
            "                                 Dload  Upload   Total   Spent    Left  Speed\n",
            "100  284k  100  284k    0     0   295k      0 --:--:-- --:--:-- --:--:--  294k\n",
            "  % Total    % Received % Xferd  Average Speed   Time    Time     Time  Current\n",
            "                                 Dload  Upload   Total   Spent    Left  Speed\n",
            "100  265k  100  265k    0     0   160k      0  0:00:01  0:00:01 --:--:--  160k\n"
          ]
        }
      ]
    },
    {
      "cell_type": "markdown",
      "source": [
        "<sup>Source: [Quantum Physics I](https://ocw.mit.edu/courses/8-04-quantum-physics-i-spring-2016/) from MIT OpenCourseWare</sup>"
      ],
      "metadata": {
        "id": "wnl2XhQ_Whfo"
      }
    },
    {
      "cell_type": "code",
      "source": [
        "nougat_cmd = \"nougat --markdown --out 'batch_directory'\"\n",
        "pdf_path = '/content/pdfs'\n",
        "\n",
        "for pdf in os.listdir(pdf_path):\n",
        "  os.system(f\"{nougat_cmd} pdf /content/pdfs/{pdf}\")"
      ],
      "metadata": {
        "id": "-7m1IbyYNKRY"
      },
      "execution_count": null,
      "outputs": []
    },
    {
      "cell_type": "code",
      "source": [
        "display.Markdown('/content/batch_directory/lec_1.mmd')"
      ],
      "metadata": {
        "id": "-05ranMFfKxM"
      },
      "execution_count": null,
      "outputs": []
    },
    {
      "cell_type": "markdown",
      "source": [
        "# **References and Additional Learning**"
      ],
      "metadata": {
        "id": "FyQJWAxXIXvi"
      }
    },
    {
      "cell_type": "markdown",
      "source": [
        "## **Documentation**\n",
        "\n",
        "- **[Nougat: Neural Optical Understanding for Academic Documents](https://github.com/facebookresearch/nougat) GitHub Repository**\n",
        "- **[Nougat: Neural Optical Understanding for Academic Documents](https://arxiv.org/abs/2308.13418) Paper on arXiv**"
      ],
      "metadata": {
        "id": "cSgsIggmfyui"
      }
    },
    {
      "cell_type": "markdown",
      "source": [
        "## **Lectures**\n",
        "\n",
        "- **[Quantum Physics I](https://ocw.mit.edu/courses/8-04-quantum-physics-i-spring-2016/) from MIT OpenCourseWare**"
      ],
      "metadata": {
        "id": "4AAUFuwRWxQP"
      }
    },
    {
      "cell_type": "markdown",
      "source": [
        "## **Papers**\n",
        "\n",
        "- **[The Fundamental Equations of Quantum Mechanics](https://www.informationphilosopher.com/solutions/scientists/dirac/Fund_QM_1925.pdf) by Paul Dirac from the Proceedings of the Royal Society of London**\n",
        "- **[The Postulates of Quantum Mechanics](https://www.sydney.edu.au/science/chemistry/~mjtj/CHEM3117/Resources/postulates.pdf) from the University of Sydney**"
      ],
      "metadata": {
        "id": "CeRJBxKLIacN"
      }
    },
    {
      "cell_type": "markdown",
      "source": [
        "# **Connect**\n",
        "- **Feel free to connect with Adrian on [YouTube](https://www.youtube.com/channel/UCPuDxI3xb_ryUUMfkm0jsRA), [LinkedIn](https://www.linkedin.com/in/adrian-dolinay-frm-96a289106/), [Twitter](https://twitter.com/DolinayG), [GitHub](https://github.com/ad17171717), [Medium](https://adriandolinay.medium.com/) and [Odysee](https://odysee.com/@adriandolinay:0). Happy coding!**"
      ],
      "metadata": {
        "id": "jikOXv6tIWzI"
      }
    }
  ]
}