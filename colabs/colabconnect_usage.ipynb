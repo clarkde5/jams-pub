{
  "cells": [
    {
      "cell_type": "markdown",
      "metadata": {
        "id": "view-in-github",
        "colab_type": "text"
      },
      "source": [
        "<a href=\"https://colab.research.google.com/github/clarkde5/jams-pub/blob/main/colabs/colabconnect_usage.ipynb\" target=\"_parent\"><img src=\"https://colab.research.google.com/assets/colab-badge.svg\" alt=\"Open In Colab\"/></a>"
      ]
    },
    {
      "cell_type": "markdown",
      "metadata": {
        "id": "85rFLznaGor2"
      },
      "source": [
        "# ColabConnect\n",
        "\n",
        "Make a copy of this notebook from `File > Save a Copy in Drive`"
      ]
    },
    {
      "cell_type": "code",
      "execution_count": null,
      "metadata": {
        "colab": {
          "base_uri": "https://localhost:8080/"
        },
        "id": "lIYdn1woOS1n",
        "outputId": "f38cc019-44de-4d61-f094-f4a3a3e19c29"
      },
      "outputs": [
        {
          "output_type": "stream",
          "name": "stdout",
          "text": [
            "Collecting git+https://github.com/amitness/colab-connect.git\n",
            "  Cloning https://github.com/amitness/colab-connect.git to /tmp/pip-req-build-x3421e6r\n",
            "  Running command git clone --filter=blob:none --quiet https://github.com/amitness/colab-connect.git /tmp/pip-req-build-x3421e6r\n",
            "  Resolved https://github.com/amitness/colab-connect.git to commit a196621de80d6eb1b73b5c8261cc223c96bae479\n",
            "  Preparing metadata (setup.py) ... \u001b[?25l\u001b[?25hdone\n",
            "Building wheels for collected packages: colabconnect\n",
            "  Building wheel for colabconnect (setup.py) ... \u001b[?25l\u001b[?25hdone\n",
            "  Created wheel for colabconnect: filename=colabconnect-0.0.8-py3-none-any.whl size=4539 sha256=2d52b73bb36bd951792e251ec6934ea832c6dfe025aa9e0a8dd85875ee8fdde7\n",
            "  Stored in directory: /tmp/pip-ephem-wheel-cache-x6cga9if/wheels/03/ec/01/2b45a7fb6312f3580ad2f4e0e218bf82de5445dc3ee3bca9ba\n",
            "Successfully built colabconnect\n",
            "Installing collected packages: colabconnect\n",
            "Successfully installed colabconnect-0.0.8\n"
          ]
        }
      ],
      "source": [
        "!pip install -U git+https://github.com/amitness/colab-connect.git"
      ]
    },
    {
      "cell_type": "markdown",
      "metadata": {
        "id": "IagqfpSHGqCw"
      },
      "source": [
        "## Create a tunnel\n",
        "- You will be asked to login on Google drive and GitHub\n",
        "- Once it's say ready, open your local VSCode Editor, open command prompt and select **Remote-Tunnels: Connect to Tunnel**\n",
        "- Choose the tunnel which says \"online\" beside it"
      ]
    },
    {
      "cell_type": "code",
      "source": [
        "from colabconnect import colabconnect\n",
        "\n",
        "colabconnect()"
      ],
      "metadata": {
        "id": "BNj85daEi-mR",
        "colab": {
          "base_uri": "https://localhost:8080/"
        },
        "outputId": "4879b320-03c6-4773-8c18-2c624012652e"
      },
      "execution_count": null,
      "outputs": [
        {
          "output_type": "stream",
          "name": "stdout",
          "text": [
            "Mounting Google Drive...\n",
            "Mounted at /content/drive\n",
            "Ran: ln -s /content/drive/MyDrive/colab/ /\n",
            "Installing python libraries...\n",
            "Ran: pip3 install --user flake8 black ipywidgets twine\n",
            "Ran: pip3 install -U ipykernel\n",
            "Ran: apt install htop -y\n",
            "Installing vscode-cli...\n",
            "Ran: curl -Lk https://code.visualstudio.com/sha/download?build=stable&os=cli-alpine-x64 --output vscode_cli.tar.gz\n",
            "Ran: tar -xf vscode_cli.tar.gz\n",
            "Starting the tunnel\n",
            "To grant access to the server, please log into https://github.com/login/device and use code 036A-133E\n",
            "Starting the tunnel\n",
            "- Ready!\n",
            "- Open VSCode on your laptop and open the command prompt\n",
            "- Select: 'Remote-Tunnels: Connect to Tunnel' to connect to colab\n",
            "Logs:\n",
            "\n",
            "[2023-11-30 14:34:47] info [tunnels::connections::relay_tunnel_host] Opened new client on channel 2\n",
            "[2023-11-30 14:34:47] info [russh::server] wrote id\n",
            "[2023-11-30 14:34:47] info [russh::server] read other id\n",
            "[2023-11-30 14:34:47] info [russh::server] session is running\n",
            "[2023-11-30 14:34:49] info [rpc.0] Checking /root/.vscode/cli/servers/Stable-1a5daa3a0231a0fbba4f14db7ec463cf99d7768e/log.txt and /root/.vscode/cli/servers/Stable-1a5daa3a0231a0fbba4f14db7ec463cf99d7768e/pid.txt for a running server...\n",
            "[2023-11-30 14:34:49] info [rpc.0] Downloading Visual Studio Code server -> /tmp/.tmp34KAPB/vscode-server-linux-x64.tar.gz\n",
            "[2023-11-30 14:34:51] info [rpc.0] Starting server...\n",
            "[2023-11-30 14:34:51] info [rpc.0] Server started\n",
            "[2023-11-30 14:34:58] info [tunnels::connections::relay_tunnel_host] Opened new client on channel 3\n",
            "[2023-11-30 14:34:58] info [russh::server] wrote id\n",
            "[2023-11-30 14:34:58] info [russh::server] read other id\n",
            "[2023-11-30 14:34:58] info [russh::server] session is running\n",
            "[2023-11-30 14:36:18] info [rpc.2] Disposed of connection to running server.\n",
            "[2023-11-30 14:36:19] info [rpc.0] Disposed of connection to running server.\n",
            "[2023-11-30 14:36:23] info [tunnels::connections::relay_tunnel_host] Opened new client on channel 4\n",
            "[2023-11-30 14:36:23] info [russh::server] wrote id\n",
            "[2023-11-30 14:36:23] info [russh::server] read other id\n",
            "[2023-11-30 14:36:23] info [russh::server] session is running\n",
            "[2023-11-30 14:36:25] info [rpc.3] Checking /root/.vscode/cli/servers/Stable-1a5daa3a0231a0fbba4f14db7ec463cf99d7768e/log.txt and /root/.vscode/cli/servers/Stable-1a5daa3a0231a0fbba4f14db7ec463cf99d7768e/pid.txt for a running server...\n",
            "[2023-11-30 14:36:25] info [rpc.3] Found running server (pid=1410)\n",
            "[2023-11-30 14:36:31] info [tunnels::connections::relay_tunnel_host] Opened new client on channel 5\n",
            "[2023-11-30 14:36:31] info [russh::server] wrote id\n",
            "[2023-11-30 14:36:31] info [russh::server] read other id\n",
            "[2023-11-30 14:36:31] info [russh::server] session is running\n",
            "[2023-11-30 14:40:30] warn [rpc.3] error handling call: NoAttachedServerError(NoAttachedServerError)\n",
            "[2023-11-30 14:40:33] info [rpc.3] Forwarding port 43341\n",
            "[2023-11-30 14:41:40] info [rpc.3] Forwarding port 38097\n",
            "[2023-11-30 14:56:44] info [rpc.4] Disposed of connection to running server.\n"
          ]
        }
      ]
    }
  ],
  "metadata": {
    "colab": {
      "provenance": [],
      "include_colab_link": true
    },
    "kernelspec": {
      "display_name": "Python 3",
      "name": "python3"
    },
    "accelerator": "GPU",
    "gpuClass": "standard"
  },
  "nbformat": 4,
  "nbformat_minor": 0
}