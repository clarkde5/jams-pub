{
  "cells": [
    {
      "cell_type": "markdown",
      "metadata": {
        "id": "view-in-github",
        "colab_type": "text"
      },
      "source": [
        "<a href=\"https://colab.research.google.com/github/clarkde5/jams-pub/blob/main/colabs/jams-env-doctr-copies.ipynb\" target=\"_parent\"><img src=\"https://colab.research.google.com/assets/colab-badge.svg\" alt=\"Open In Colab\"/></a>"
      ]
    },
    {
      "cell_type": "markdown",
      "metadata": {
        "id": "I0sALLgde66O"
      },
      "source": [
        "# **Environment**"
      ]
    },
    {
      "cell_type": "markdown",
      "metadata": {
        "id": "QQx-kHNOfl3n"
      },
      "source": [
        "## **Bootstrap public repo**"
      ]
    },
    {
      "cell_type": "code",
      "execution_count": 1,
      "metadata": {
        "id": "fInMs3k0HWlv",
        "outputId": "95ba3efc-bd46-4bd1-d30e-ea9bd81c018f",
        "colab": {
          "base_uri": "https://localhost:8080/"
        }
      },
      "outputs": [
        {
          "output_type": "stream",
          "name": "stdout",
          "text": [
            "/content\n",
            "Cloning into 'src/jams-pub'...\n",
            "remote: Enumerating objects: 157, done.\u001b[K\n",
            "remote: Counting objects: 100% (157/157), done.\u001b[K\n",
            "remote: Compressing objects: 100% (138/138), done.\u001b[K\n",
            "remote: Total 157 (delta 98), reused 32 (delta 16), pack-reused 0\u001b[K\n",
            "Receiving objects: 100% (157/157), 116.30 KiB | 5.54 MiB/s, done.\n",
            "Resolving deltas: 100% (98/98), done.\n"
          ]
        }
      ],
      "source": [
        "from pathlib import Path\n",
        "\n",
        "if not Path(f\"/content\").is_dir():\n",
        "  %cd ~\n",
        "else:\n",
        "  %cd /content\n",
        "\n",
        "if not Path(f\"src/jams-pub\").is_dir():\n",
        "  !git clone https://github.com/clarkde5/jams-pub src/jams-pub\n",
        "else:\n",
        "  print(\"src/jams-pub already exists\")"
      ]
    },
    {
      "cell_type": "markdown",
      "metadata": {
        "id": "CyQkr3hoftql"
      },
      "source": [
        "## **Pull private resources**"
      ]
    },
    {
      "cell_type": "code",
      "execution_count": 2,
      "metadata": {
        "id": "fWCA-QMPIRdr",
        "outputId": "baff5d21-754c-404f-910c-e40948132f13",
        "colab": {
          "base_uri": "https://localhost:8080/"
        }
      },
      "outputs": [
        {
          "output_type": "stream",
          "name": "stdout",
          "text": [
            "PrivateKey acquired\n",
            "Cloning into 'src/jams'...\n",
            "remote: Enumerating objects: 242, done.\u001b[K\n",
            "remote: Counting objects: 100% (21/21), done.\u001b[K\n",
            "remote: Compressing objects: 100% (19/19), done.\u001b[K\n",
            "remote: Total 242 (delta 5), reused 9 (delta 1), pack-reused 221\u001b[K\n",
            "Receiving objects: 100% (242/242), 76.54 MiB | 15.81 MiB/s, done.\n",
            "Resolving deltas: 100% (7/7), done.\n"
          ]
        }
      ],
      "source": [
        "runOptional = True\n",
        "def CallPrivateEnvSetup():\n",
        "  from pathlib import Path\n",
        "\n",
        "  home = str(Path.home())\n",
        "\n",
        "  try:\n",
        "    from google.colab import userdata\n",
        "    try:\n",
        "      rsa_private_key = userdata.get('PrivateKey')\n",
        "    except:\n",
        "      rsa_private_key = \"\"\n",
        "      print(\"PrivateKey is required, but not found in secrets / colab userdata\")\n",
        "      return\n",
        "  except:\n",
        "    print(\"google.colab could not be loaded\")\n",
        "    if not Path(f\"{home}/.ssh/id_rsa\").is_file():\n",
        "      print(\"rsa key does not exist, please create manually\")\n",
        "      return\n",
        "    else:\n",
        "      print(\"rsa key already exists\")\n",
        "\n",
        "  if not Path(f\"{home}/.ssh/id_rsa\").is_file():\n",
        "    !python src/jams-pub/env-setup.py \"{rsa_private_key}\"\n",
        "\n",
        "\n",
        "  if not Path(f\"{home}/.ssh/id_rsa\").is_file():\n",
        "    print(\"env-setup failed to create rsa key\")\n",
        "    return\n",
        "\n",
        "  if not Path(f\"src/jams\").is_dir():\n",
        "    !git clone git@github.com:clarkde5/jams.git src/jams\n",
        "  else:\n",
        "    print(\"src/jams already exists\")\n",
        "\n",
        "if __name__ == \"__main__\":\n",
        "  if runOptional == True:\n",
        "    CallPrivateEnvSetup()\n",
        "  else:\n",
        "    print(\"Not running optional cell\")"
      ]
    },
    {
      "cell_type": "markdown",
      "metadata": {
        "id": "0Xd7ckJ_FKk7"
      },
      "source": [
        "# **Parse Lease Output**\n",
        "\n",
        "**NOTE:** Requires [Pull private resources](https://colab.research.google.com/github/clarkde5/jams-pub/blob/main/colabs/jams-env-doctr.ipynb#scrollTo=CyQkr3hoftql)"
      ]
    },
    {
      "cell_type": "code",
      "execution_count": null,
      "metadata": {
        "id": "px-v4l9MFtgD"
      },
      "outputs": [],
      "source": [
        "runOptional = True\n",
        "def getInvoiceNumber(page_idx,page):\n",
        "\timport re\n",
        "\n",
        "\tinvoice_number = \"\"\n",
        "\n",
        "\tfor block in page[\"blocks\"]:\n",
        "\t\tif invoice_number != \"\":\n",
        "\t\t\tbreak\n",
        "\t\tfor line in block[\"lines\"]:\n",
        "\t\t\tif invoice_number != \"\":\n",
        "\t\t\t\tbreak\n",
        "\t\t\tsorted_words = sorted(line[\"words\"], key = lambda x: x[\"geometry\"][0][0])\n",
        "\t\t\tfor word_idx,word in enumerate(sorted_words):\n",
        "\t\t\t\tif re.search(\"Invoice\",word[\"value\"]) and re.search(\"Nbr:\",sorted_words[1][\"value\"]):\n",
        "\t\t\t\t\tinvoice_number = sorted_words[2][\"value\"]\n",
        "\t\t\t\t\tbreak\n",
        "\n",
        "\treturn invoice_number\n",
        "\n",
        "def getInvoiceTotal(page_idx,page):\n",
        "\timport re\n",
        "\tStartingPlaceFound = page_idx != 0\n",
        "\tinvoice_total = \"\"\n",
        "\n",
        "\tfor block in page[\"blocks\"]:\n",
        "\t\tif invoice_total != \"\":\n",
        "\t\t\tbreak\n",
        "\t\tfor line in block[\"lines\"]:\n",
        "\t\t\tif invoice_total != \"\":\n",
        "\t\t\t\tbreak\n",
        "\t\t\tsorted_words = sorted(line[\"words\"], key = lambda x: x[\"geometry\"][0][0])\n",
        "\t\t\tif len(sorted_words) == 4:\n",
        "\t\t\t\tif re.search(\"This\",sorted_words[1][\"value\"]):\n",
        "\t\t\t\t\tinvoice_total = sorted_words[3][\"value\"]\n",
        "\t\t\t\t\tbreak\n",
        "\n",
        "\treturn invoice_total\n",
        "\n",
        "def getContractsForPage(page_idx,page):\n",
        "\timport re\n",
        "\tStartingPlaceFound = page_idx != 0\n",
        "\tcontracts = []\n",
        "\n",
        "\tfor block in page[\"blocks\"]:\n",
        "\t\tfor line in block[\"lines\"]:\n",
        "\t\t\tfor word_idx,word in enumerate(sorted(line[\"words\"], key = lambda x: x[\"geometry\"][0][1])):\n",
        "\t\t\t\tif re.search(\"Unit\",word[\"value\"]):\n",
        "\t\t\t\t\tStartingPlaceFound = True\n",
        "\n",
        "\t\t\t\tif not StartingPlaceFound:\n",
        "\t\t\t\t\tcontinue\n",
        "\n",
        "\t\t\t\tif re.search(\"Contract\",word[\"value\"]):\n",
        "\t\t\t\t\tif len(line[\"words\"])>=3:\n",
        "\t\t\t\t\t\tcontract_number_word = line[\"words\"][2]\n",
        "\t\t\t\t\t\tif re.search(\"\\d{8}\",contract_number_word[\"value\"]):\n",
        "\t\t\t\t\t\t\tcontracts.append({\"contract_number\": contract_number_word[\"value\"], \"pdf_y\": contract_number_word[\"geometry\"][0][1]+page_idx, \"page\": page_idx+1})\n",
        "\t\t\t\telse:\n",
        "\t\t\t\t\tcontinue\n",
        "\n",
        "\treturn contracts\n",
        "\n",
        "def getSerialNumbersForPage(page_idx,page):\n",
        "\timport re\n",
        "\tStartingPlaceFound = page_idx != 0\n",
        "\tserialNumbers = []\n",
        "\n",
        "\tfor block in page[\"blocks\"]:\n",
        "\t\tfor line_idx,line in enumerate(block[\"lines\"]):\n",
        "\t\t\tsorted_words = sorted(line[\"words\"], key = lambda x: x[\"geometry\"][0][1])\n",
        "\t\t\tfor word_idx,word in enumerate(sorted_words):\n",
        "\t\t\t\tif re.search(\"Unit\",word[\"value\"]):\n",
        "\t\t\t\t\tStartingPlaceFound = True\n",
        "\n",
        "\t\t\t\tif not StartingPlaceFound:\n",
        "\t\t\t\t\tcontinue\n",
        "\n",
        "\t\t\t\tif re.search(\"Contract\",word[\"value\"]):\n",
        "\t\t\t\t\tif len(line[\"words\"])>=3:\n",
        "\t\t\t\t\t\tcontract_number_word = line[\"words\"][2]\n",
        "\t\t\t\t\t\tif re.search(\"\\d{8}\",contract_number_word[\"value\"]):\n",
        "\t\t\t\t\t\t\tserial_number_word = block[\"lines\"][line_idx+1][\"words\"][0]\n",
        "\t\t\t\t\t\t\tif serial_number_word[\"value\"][4] == 'O':\n",
        "\t\t\t\t\t\t\t\tserial_number_word[\"value\"] = serial_number_word[\"value\"][:4] + \"0\" + serial_number_word[\"value\"][5:]\n",
        "\t\t\t\t\t\t\tserialNumbers.append({\"serial_number\": serial_number_word[\"value\"], \"pdf_y\": serial_number_word[\"geometry\"][0][1]+page_idx, \"page\": page_idx+1})\n",
        "\t\t\t\telse:\n",
        "\t\t\t\t\tcontinue\n",
        "\n",
        "\treturn serialNumbers\n",
        "\n",
        "def getPaymentDue(page_idx,page):\n",
        "\n",
        "\timport re\n",
        "\tStartingPlaceFound = page_idx != 0\n",
        "\tprices = []\n",
        "\n",
        "\tfor block in page[\"blocks\"]:\n",
        "\t\tfor line in block[\"lines\"]:\n",
        "\t\t\tfor word_idx,word in enumerate(sorted(line[\"words\"], key = lambda x: x[\"geometry\"][0][1])):\n",
        "\t\t\t\tif re.search(\"\\$\\-{0,1}\\d+\\.\\d{2}\",word[\"value\"]):\n",
        "\t\t\t\t\tprices.append({\"price\": word[\"value\"], \"pdf_y\": word[\"geometry\"][0][1]+page_idx, \"page\": page_idx+1})\n",
        "\t\t\t\telse:\n",
        "\t\t\t\t\tcontinue\n",
        "\n",
        "\treturn prices\n",
        "\n",
        "\n",
        "def convertToJson(sortedData):\n",
        "\tcurrentPage = 0\n",
        "\n",
        "\tresponse_list = []\n",
        "\tcurrent_page_dict = {}\n",
        "\tcurrent_contract_number_item = {}\n",
        "\n",
        "\tfor contractSerialPair in sortedData:\n",
        "\n",
        "\t\tif contractSerialPair[\"page\"] != currentPage:\n",
        "\t\t\tcurrentPage = contractSerialPair[\"page\"]\n",
        "\t\t\tresponse_list.append({\"page\": currentPage})\n",
        "\t\t\tcurrent_page_dict = response_list[-1]\n",
        "\t\t\tcurrent_page_dict[\"items\"] = []\n",
        "\n",
        "\t\tif \"contract_number\" in contractSerialPair:\n",
        "\t\t\tcurrent_page_dict[\"items\"].append({\"contract_number\": contractSerialPair[\"contract_number\"], \"serial_number\": [], \"price\": []})\n",
        "\t\t\tcurrent_contract_number_item = current_page_dict[\"items\"][-1]\n",
        "\t\telif \"serial_number\" in contractSerialPair:\n",
        "\t\t\tcurrent_contract_number_item[\"serial_number\"] = contractSerialPair[\"serial_number\"]\n",
        "\t\telif \"price\" in contractSerialPair:\n",
        "\t\t\tcurrent_contract_number_item[\"price\"].append(contractSerialPair[\"price\"])\n",
        "\t\telse:\n",
        "\t\t  print(\"Error unknown pair: \" + contractSerialPair)\n",
        "\n",
        "  return response_list\n",
        "\n",
        "def main():\n",
        "\timport json\n",
        "\timport re\n",
        "\timport pandas as pd\n",
        "\tfrom io import StringIO\n",
        "\n",
        "\tf = open('C:\\Vaidhy\\JAMS\\Solution\\Aug23copies-docTR.json')\n",
        "\tdata = json.load(f)\n",
        "\n",
        "\tcontracts = []\n",
        "\tserialNumbers = []\n",
        "\tpaymentDue = []\n",
        "\tinvoice_number = \"\"\n",
        "\tinvoice_total = \"\"\n",
        "\n",
        "\tfor page_idx,page in enumerate(data[\"pages\"]):\n",
        "\t\tcontracts += getContractsForPage(page_idx,page)\n",
        "\t\tserialNumbers += getSerialNumbersForPage(page_idx,page)\n",
        "\t\tpaymentDue += getPaymentDue(page_idx,page)\n",
        "\t\tif invoice_number == \"\":\n",
        "\t\t\tinvoice_number = getInvoiceNumber(page_idx,page)\n",
        "\t\tif invoice_total == \"\":\n",
        "\t\t\tinvoice_total = getInvoiceTotal(page_idx,page)\n",
        "\n",
        "\tcontractSerials = contracts + serialNumbers + paymentDue\n",
        "\tcontractSerials = sorted(contractSerials, key = lambda x: x[\"pdf_y\"])\n",
        "\n",
        "\tresponse_list = {\"pages\" : convertToJson(contractSerials), \"invoice_number\": invoice_number, \"invoice_total\": invoice_total}\n",
        "\n",
        "\tjson_formatted_str = json.dumps(response_list, indent=2)\n",
        "\tprint(json_formatted_str)\n",
        "\n",
        "\tdf = pd.read_json(StringIO(json_formatted_str))\n",
        "\t# df.to_excel(\"C:\\Vaidhy\\JAMS\\Solution\\Aug 23 Copies-docTR.parsed.xlsx\")\n",
        "\tdf.to_csv(\"C:\\Vaidhy\\JAMS\\Solution\\Aug 23 Copies-docTR.parsed.csv\")\n",
        "\n",
        "\n",
        "if __name__ == \"__main__\":\n",
        "\tif runOptional == True:\n",
        "\t\tmain()\n",
        "\telse:\n",
        "\t\tprint(\"Not running optional cell\")"
      ]
    }
  ],
  "metadata": {
    "colab": {
      "provenance": [],
      "include_colab_link": true
    },
    "kernelspec": {
      "display_name": "Python 3",
      "name": "python3"
    },
    "language_info": {
      "codemirror_mode": {
        "name": "ipython",
        "version": 3
      },
      "file_extension": ".py",
      "mimetype": "text/x-python",
      "name": "python",
      "nbconvert_exporter": "python",
      "pygments_lexer": "ipython3",
      "version": "3.8.18"
    }
  },
  "nbformat": 4,
  "nbformat_minor": 0
}