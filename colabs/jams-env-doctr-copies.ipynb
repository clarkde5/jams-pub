{
  "cells": [
    {
      "cell_type": "markdown",
      "metadata": {
        "id": "view-in-github",
        "colab_type": "text"
      },
      "source": [
        "<a href=\"https://colab.research.google.com/github/clarkde5/jams-pub/blob/main/colabs/jams-env-doctr-copies.ipynb\" target=\"_parent\"><img src=\"https://colab.research.google.com/assets/colab-badge.svg\" alt=\"Open In Colab\"/></a>"
      ]
    },
    {
      "cell_type": "markdown",
      "metadata": {
        "id": "I0sALLgde66O"
      },
      "source": [
        "# **Environment**"
      ]
    },
    {
      "cell_type": "markdown",
      "metadata": {
        "id": "QQx-kHNOfl3n"
      },
      "source": [
        "## **Bootstrap public repo**"
      ]
    },
    {
      "cell_type": "code",
      "execution_count": null,
      "metadata": {
        "id": "fInMs3k0HWlv"
      },
      "outputs": [],
      "source": [
        "from pathlib import Path\n",
        "\n",
        "if not Path(f\"/content\").is_dir():\n",
        "  %cd ~\n",
        "else:\n",
        "  %cd /content\n",
        "\n",
        "if not Path(f\"src/jams-pub\").is_dir():\n",
        "  !git clone https://github.com/clarkde5/jams-pub src/jams-pub\n",
        "else:\n",
        "  print(\"src/jams-pub already exists\")"
      ]
    },
    {
      "cell_type": "markdown",
      "metadata": {
        "id": "CyQkr3hoftql"
      },
      "source": [
        "## **Pull private resources**"
      ]
    },
    {
      "cell_type": "code",
      "execution_count": null,
      "metadata": {
        "id": "fWCA-QMPIRdr"
      },
      "outputs": [],
      "source": [
        "runOptional = True\n",
        "def CallPrivateEnvSetup():\n",
        "  from pathlib import Path\n",
        "\n",
        "  home = str(Path.home())\n",
        "\n",
        "  try:\n",
        "    from google.colab import userdata\n",
        "    try:\n",
        "      rsa_private_key = userdata.get('PrivateKey')\n",
        "    except:\n",
        "      rsa_private_key = \"\"\n",
        "      print(\"PrivateKey is required, but not found in secrets / colab userdata\")\n",
        "      return\n",
        "  except:\n",
        "    print(\"google.colab could not be loaded\")\n",
        "    if not Path(f\"{home}/.ssh/id_rsa\").is_file():\n",
        "      print(\"rsa key does not exist, please create manually\")\n",
        "      return\n",
        "    else:\n",
        "      print(\"rsa key already exists\")\n",
        "\n",
        "  if not Path(f\"{home}/.ssh/id_rsa\").is_file():\n",
        "    !python src/jams-pub/env-setup.py \"{rsa_private_key}\"\n",
        "\n",
        "  if not Path(f\"{home}/.ssh/id_rsa\").is_file():\n",
        "    print(\"env-setup failed to create rsa key\")\n",
        "    return\n",
        "\n",
        "  if not Path(f\"src/jams\").is_dir():\n",
        "    !git clone git@github.com:clarkde5/jams.git src/jams\n",
        "  else:\n",
        "    print(\"src/jams already exists\")\n",
        "\n",
        "if __name__ == \"__main__\":\n",
        "  if runOptional == True:\n",
        "    CallPrivateEnvSetup()\n",
        "  else:\n",
        "    print(\"Not running optional cell\")"
      ]
    },
    {
      "cell_type": "markdown",
      "metadata": {
        "id": "0Xd7ckJ_FKk7"
      },
      "source": [
        "# **Parse Lease Output**\n",
        "\n",
        "**NOTE:** Requires [Pull private resources](https://colab.research.google.com/github/clarkde5/jams-pub/blob/main/colabs/jams-env-doctr.ipynb#scrollTo=CyQkr3hoftql)"
      ]
    },
    {
      "cell_type": "code",
      "execution_count": null,
      "metadata": {
        "id": "px-v4l9MFtgD"
      },
      "outputs": [],
      "source": [
        "runOptional = True\n",
        "def getContractsForPage(page_idx,page):\n",
        "  import re\n",
        "  StartingPlaceFound = page_idx != 0\n",
        "  contracts = []\n",
        "#   if page_idx == 0:\n",
        "#     print(page)\n",
        "\n",
        "\n",
        "  for block in page[\"blocks\"]:\n",
        "    # if page_idx == 0:\n",
        "        # print('-----1--block Start-----' )\n",
        "        # print(block)\n",
        "        # print('-----1--block end-----' )\n",
        "    for line in block[\"lines\"]:\n",
        "      for word_idx,word in enumerate(sorted(line[\"words\"], key = lambda x: x[\"geometry\"][0][1])):\n",
        "        # print(\"---1--word value---\" + word[\"value\"])\n",
        "        if re.search(\"Unit\",word[\"value\"]):\n",
        "            StartingPlaceFound = True\n",
        "\n",
        "        # print(\"---2--word value---\" + word[\"value\"])\n",
        "        if not StartingPlaceFound:\n",
        "            continue\n",
        "\n",
        "        # print(\"---3--word value---\" + word[\"value\"])\n",
        "        if re.search(\"Contract\",word[\"value\"]):\n",
        "            # print(\"---4--word value---\" + word[\"value\"])\n",
        "            if len(line[\"words\"])>=3:\n",
        "                contract_number_word = line[\"words\"][2]\n",
        "                # print(\"---5--contract_number_word ---\" +  contract_number_word[\"value\"])\n",
        "                if re.search(\"\\d{8}\",contract_number_word[\"value\"]):\n",
        "                    contracts.append({\"contract_number\": contract_number_word[\"value\"], \"pdf_y\": contract_number_word[\"geometry\"][0][1]+page_idx, \"page\": page_idx+1})\n",
        "        else:\n",
        "            continue\n",
        "\n",
        "\n",
        "  return contracts\n",
        "\n",
        "def getSerialNumbersForPage(page_idx,page):\n",
        "  import re\n",
        "  StartingPlaceFound = page_idx != 0\n",
        "  serialNumbers = []\n",
        "\n",
        "  for block in page[\"blocks\"]:\n",
        "    for line_idx,line in enumerate(block[\"lines\"]):\n",
        "      sorted_words = sorted(line[\"words\"], key = lambda x: x[\"geometry\"][0][1])\n",
        "      for word_idx,word in enumerate(sorted_words):\n",
        "        if re.search(\"Unit\",word[\"value\"]):\n",
        "          StartingPlaceFound = True\n",
        "\n",
        "        if not StartingPlaceFound:\n",
        "          continue\n",
        "\n",
        "        if re.search(\"Contract\",word[\"value\"]):\n",
        "            if len(line[\"words\"])>=3:\n",
        "                contract_number_word = line[\"words\"][2]\n",
        "                if re.search(\"\\d{8}\",contract_number_word[\"value\"]):\n",
        "                    serial_number_word = block[\"lines\"][line_idx+1][\"words\"][0]\n",
        "                    # print(serial_number_word[\"value\"])\n",
        "                    if serial_number_word[\"value\"][4] == 'O':\n",
        "                        serial_number_word[\"value\"] = serial_number_word[\"value\"][:4] + \"0\" + serial_number_word[\"value\"][5:]\n",
        "                    serialNumbers.append({\"serial_number\": serial_number_word[\"value\"], \"pdf_y\": serial_number_word[\"geometry\"][0][1]+page_idx, \"page\": page_idx+1})\n",
        "        else:\n",
        "          continue\n",
        "\n",
        "  return serialNumbers\n",
        "\n",
        "# def getPaymentDue(page_idx,page):\n",
        "#   import re\n",
        "#   StartingPlaceFound = page_idx != 0\n",
        "#   PleaseFound = False\n",
        "#   prices = []\n",
        "\n",
        "#   for block in page[\"blocks\"]:\n",
        "#     for line in block[\"lines\"]:\n",
        "#       for word_idx,word in enumerate(sorted(line[\"words\"], key = lambda x: x[\"geometry\"][0][1])):\n",
        "#         if re.search(\"PLEASE\",word[\"value\"]):\n",
        "#           PleaseFound = True\n",
        "\n",
        "#         if not PleaseFound:\n",
        "#           continue\n",
        "\n",
        "#         if re.search(\"CURRENT\",word[\"value\"]):\n",
        "#           StartingPlaceFound = True\n",
        "\n",
        "#         if not StartingPlaceFound:\n",
        "#           continue\n",
        "\n",
        "#         if re.search(\"-{0,1}\\d+\\.\\d{2}\",word[\"value\"]):\n",
        "#           prices.append({\"price\": word[\"value\"], \"pdf_y\": word[\"geometry\"][0][1]+page_idx, \"page\": page_idx+1})\n",
        "#         else:\n",
        "#           continue\n",
        "\n",
        "#   return prices\n",
        "\n",
        "def main():\n",
        "  import json\n",
        "  import re\n",
        "\n",
        "  f = open('C:\\Vaidhy\\JAMS\\Solution\\Aug23copies-docTR.json')\n",
        "  data = json.load(f)\n",
        "\n",
        "  contracts = []\n",
        "  serialNumbers = []\n",
        "  paymentDue = []\n",
        "\n",
        "  for page_idx,page in enumerate(data[\"pages\"]):\n",
        "    contracts += getContractsForPage(page_idx,page)\n",
        "    serialNumbers += getSerialNumbersForPage(page_idx,page)\n",
        "    # paymentDue += getPaymentDue(page_idx,page)\n",
        "#   json_formatted_str = json.dumps(contracts, indent=2)\n",
        "#   print(json_formatted_str)\n",
        "  json_formatted_str = json.dumps(serialNumbers, indent=2)\n",
        "  print(json_formatted_str)\n",
        "  # contractSerials = contracts + serialNumbers + paymentDue\n",
        "  # contractSerials = sorted(contractSerials, key = lambda x: x[\"pdf_y\"])\n",
        "  # currentPage = 0\n",
        "\n",
        "  # for contractSerialPair in contractSerials:\n",
        "  #   if contractSerialPair[\"page\"] != currentPage:\n",
        "  #     currentPage = contractSerialPair[\"page\"]\n",
        "  #     print(\"\\r\\nPage: \" + str(currentPage) + \"\\r\\n\")\n",
        "\n",
        "  #   if \"contract_number\" in contractSerialPair:\n",
        "  #     print(\"Contract Number: \" + contractSerialPair[\"contract_number\"])\n",
        "  #   elif \"serial_number\" in contractSerialPair:\n",
        "  #     print(\"Serial Number: \" + contractSerialPair[\"serial_number\"])\n",
        "  #   elif \"price\" in contractSerialPair:\n",
        "  #       print(\"Due: \" + contractSerialPair[\"price\"])\n",
        "  #   else:\n",
        "  #     print(\"Error unknown pair: \" + contractSerialPair)\n",
        "\n",
        "if __name__ == \"__main__\":\n",
        "  if runOptional == True:\n",
        "    main()\n",
        "  else:\n",
        "    print(\"Not running optional cell\")"
      ]
    }
  ],
  "metadata": {
    "colab": {
      "provenance": [],
      "include_colab_link": true
    },
    "kernelspec": {
      "display_name": "Python 3",
      "name": "python3"
    },
    "language_info": {
      "codemirror_mode": {
        "name": "ipython",
        "version": 3
      },
      "file_extension": ".py",
      "mimetype": "text/x-python",
      "name": "python",
      "nbconvert_exporter": "python",
      "pygments_lexer": "ipython3",
      "version": "3.8.18"
    }
  },
  "nbformat": 4,
  "nbformat_minor": 0
}