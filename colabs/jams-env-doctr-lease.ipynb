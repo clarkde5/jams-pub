{
  "cells": [
    {
      "cell_type": "markdown",
      "metadata": {
        "colab_type": "text",
        "id": "view-in-github"
      },
      "source": [
        "<a href=\"https://colab.research.google.com/github/clarkde5/jams-pub/blob/main/colabs/jams-env-doctr-lease.ipynb\" target=\"_parent\"><img src=\"https://colab.research.google.com/assets/colab-badge.svg\" alt=\"Open In Colab\"/></a>"
      ]
    },
    {
      "cell_type": "markdown",
      "metadata": {
        "id": "I0sALLgde66O"
      },
      "source": [
        "# **Environment**"
      ]
    },
    {
      "cell_type": "markdown",
      "metadata": {
        "id": "QQx-kHNOfl3n"
      },
      "source": [
        "## **Bootstrap public repo**"
      ]
    },
    {
      "cell_type": "code",
      "execution_count": null,
      "metadata": {
        "id": "fInMs3k0HWlv"
      },
      "outputs": [],
      "source": [
        "from pathlib import Path\n",
        "\n",
        "if not Path(f\"/content\").is_dir():\n",
        "  %cd ~\n",
        "else:\n",
        "  %cd /content\n",
        "\n",
        "if not Path(f\"src/jams-pub\").is_dir():\n",
        "  !git clone https://github.com/clarkde5/jams-pub src/jams-pub\n",
        "else:\n",
        "  print(\"src/jams-pub already exists\")\n",
        "\n",
        "import sys\n",
        "import os\n",
        "\n",
        "if not \"src/jams-pub/py-lib\" in sys.path:\n",
        "  sys.path.append(os.path.abspath(\"src/jams-pub/py-lib\"))\n",
        "\n",
        "print(sys.path)"
      ]
    },
    {
      "cell_type": "markdown",
      "metadata": {
        "id": "CyQkr3hoftql"
      },
      "source": [
        "## **Pull private resources**"
      ]
    },
    {
      "cell_type": "code",
      "execution_count": null,
      "metadata": {
        "id": "fWCA-QMPIRdr"
      },
      "outputs": [],
      "source": [
        "runOptional = True\n",
        "def CallPrivateEnvSetup():\n",
        "  from pathlib import Path\n",
        "\n",
        "  home = str(Path.home())\n",
        "\n",
        "  try:\n",
        "    from google.colab import userdata\n",
        "    try:\n",
        "      rsa_private_key = userdata.get('PrivateKey')\n",
        "    except:\n",
        "      rsa_private_key = \"\"\n",
        "      print(\"PrivateKey is required, but not found in secrets / colab userdata\")\n",
        "      return\n",
        "  except:\n",
        "    print(\"google.colab could not be loaded\")\n",
        "    if not Path(f\"{home}/.ssh/id_rsa\").is_file():\n",
        "      print(\"rsa key does not exist, please create manually\")\n",
        "      return\n",
        "    else:\n",
        "      print(\"rsa key already exists\")\n",
        "\n",
        "  if not Path(f\"{home}/.ssh/id_rsa\").is_file():\n",
        "    !python src/jams-pub/env-setup.py \"{rsa_private_key}\"\n",
        "\n",
        "  if not Path(f\"{home}/.ssh/id_rsa\").is_file():\n",
        "    print(\"env-setup failed to create rsa key\")\n",
        "    return\n",
        "  else:\n",
        "    #!apt-get install dos2unix -y\n",
        "    #!dos2unix ~/.ssh/id_rsa\n",
        "    !sed -i 's/\\r$//' ~/.ssh/id_rsa\n",
        "\n",
        "  if not Path(f\"src/jams\").is_dir():\n",
        "    !git clone git@github.com:clarkde5/jams.git src/jams\n",
        "  else:\n",
        "    print(\"src/jams already exists\")\n",
        "\n",
        "if __name__ == \"__main__\":\n",
        "  if runOptional == True:\n",
        "    CallPrivateEnvSetup()\n",
        "  else:\n",
        "    print(\"Not running optional cell\")"
      ]
    },
    {
      "cell_type": "markdown",
      "metadata": {
        "id": "0Xd7ckJ_FKk7"
      },
      "source": [
        "# **Parse Lease Output**\n",
        "\n",
        "**NOTE:** Requires [Pull private resources](https://colab.research.google.com/github/clarkde5/jams-pub/blob/main/colabs/jams-env-doctr.ipynb#scrollTo=CyQkr3hoftql)"
      ]
    },
    {
      "cell_type": "code",
      "execution_count": null,
      "metadata": {
        "id": "px-v4l9MFtgD"
      },
      "outputs": [],
      "source": [
        "!PYTHONPATH=src/jams-pub/py-lib python src/jams-pub/lease-main.py"
      ]
    }
  ],
  "metadata": {
    "colab": {
      "include_colab_link": true,
      "provenance": []
    },
    "kernelspec": {
      "display_name": "Python 3",
      "name": "python3"
    },
    "language_info": {
      "codemirror_mode": {
        "name": "ipython",
        "version": 3
      },
      "file_extension": ".py",
      "mimetype": "text/x-python",
      "name": "python",
      "nbconvert_exporter": "python",
      "pygments_lexer": "ipython3",
      "version": "3.8.18"
    }
  },
  "nbformat": 4,
  "nbformat_minor": 0
}
