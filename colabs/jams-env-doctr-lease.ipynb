{
  "nbformat": 4,
  "nbformat_minor": 0,
  "metadata": {
    "colab": {
      "provenance": [],
      "gpuType": "T4",
      "mount_file_id": "https://github.com/clarkde5/jams-pub/blob/main/colabs/jams-env.ipynb",
      "authorship_tag": "ABX9TyMsyHoUydsoRnRT7BI8j66W",
      "include_colab_link": true
    },
    "kernelspec": {
      "name": "python3",
      "display_name": "Python 3"
    },
    "language_info": {
      "name": "python"
    },
    "accelerator": "GPU"
  },
  "cells": [
    {
      "cell_type": "markdown",
      "metadata": {
        "id": "view-in-github",
        "colab_type": "text"
      },
      "source": [
        "<a href=\"https://colab.research.google.com/github/clarkde5/jams-pub/blob/main/colabs/jams-env-doctr-lease.ipynb\" target=\"_parent\"><img src=\"https://colab.research.google.com/assets/colab-badge.svg\" alt=\"Open In Colab\"/></a>"
      ]
    },
    {
      "cell_type": "markdown",
      "source": [
        "# **Environment**"
      ],
      "metadata": {
        "id": "I0sALLgde66O"
      }
    },
    {
      "cell_type": "markdown",
      "source": [
        "## **Bootstrap public repo**"
      ],
      "metadata": {
        "id": "QQx-kHNOfl3n"
      }
    },
    {
      "cell_type": "code",
      "source": [
        "!git clone https://github.com/clarkde5/jams-pub src/jams-pub"
      ],
      "metadata": {
        "id": "fInMs3k0HWlv"
      },
      "execution_count": null,
      "outputs": []
    },
    {
      "cell_type": "markdown",
      "source": [
        "## **(Optional) Pull private resources**"
      ],
      "metadata": {
        "id": "CyQkr3hoftql"
      }
    },
    {
      "cell_type": "code",
      "source": [
        "runOptional = False\n",
        "def CallPrivateEnvSetup():\n",
        "  from pathlib import Path\n",
        "  from google.colab import userdata\n",
        "  try:\n",
        "    rsa_private_key = userdata.get('PrivateKey')\n",
        "  except:\n",
        "    rsa_private_key = \"\"\n",
        "    print(\"PrivateKey is required, but not found in secrets / colab userdata\")\n",
        "    return\n",
        "\n",
        "  !python src/jams-pub/env-setup.py \"{rsa_private_key}\"\n",
        "\n",
        "  home = str(Path.home())\n",
        "  if not Path(f\"{home}/.ssh/id_rsa\").is_file():\n",
        "    print(\"env-setup failed to create rsa key\")\n",
        "    return\n",
        "\n",
        "  if not Path(f\"src/jams\").is_dir():\n",
        "    !git clone git@github.com:clarkde5/jams.git src/jams\n",
        "\n",
        "if __name__ == \"__main__\":\n",
        "  if runOptional == True:\n",
        "    CallPrivateEnvSetup()\n",
        "  else:\n",
        "    print(\"Not running optional cell\")"
      ],
      "metadata": {
        "id": "fWCA-QMPIRdr",
        "colab": {
          "base_uri": "https://localhost:8080/"
        },
        "outputId": "4e6210f8-96f8-4b88-a86f-f4c03acb9ccf"
      },
      "execution_count": null,
      "outputs": [
        {
          "output_type": "stream",
          "name": "stdout",
          "text": [
            "Not running optional cell\n"
          ]
        }
      ]
    },
    {
      "cell_type": "markdown",
      "source": [
        "## **(Optional) VS Code Integration**"
      ],
      "metadata": {
        "id": "zGJ5N1LwfTTd"
      }
    },
    {
      "cell_type": "code",
      "source": [
        "runOptional = False\n",
        "if runOptional == True:\n",
        "  !pip install -U git+https://github.com/amitness/colab-connect.git\n",
        "\n",
        "  from colabconnect import colabconnect\n",
        "\n",
        "  colabconnect()\n",
        "else:\n",
        "  print(\"Not running optional cell\")"
      ],
      "metadata": {
        "id": "ZUlPrGUV_CgF"
      },
      "execution_count": null,
      "outputs": []
    },
    {
      "cell_type": "markdown",
      "source": [
        "# **Run Model**"
      ],
      "metadata": {
        "id": "X5Uox82cSgOQ"
      }
    },
    {
      "cell_type": "code",
      "source": [
        "!pip install gradio\n",
        "!pip install gradio-pdf\n",
        "\n",
        "# TensorFlow\n",
        "# !pip install python-doctr[tf]\n",
        "# PyTorch\n",
        "!pip install python-doctr[torch]\n",
        "# Restart runtime\n",
        "exit()"
      ],
      "metadata": {
        "id": "WsC1kaR3cV8g"
      },
      "execution_count": null,
      "outputs": []
    },
    {
      "cell_type": "code",
      "source": [
        "import gradio as gr\n",
        "from gradio_pdf import PDF\n",
        "import os\n",
        "\n",
        "# Let's pick the desired backend\n",
        "# os.environ['USE_TF'] = '1'\n",
        "os.environ['USE_TORCH'] = '1'\n",
        "\n",
        "from doctr.io import DocumentFile\n",
        "from doctr.models import ocr_predictor\n",
        "\n",
        "\n",
        "def demo_process(pdf_doc):\n",
        "    doc = DocumentFile.from_pdf(pdf_doc)\n",
        "    result = pretrained_model(doc)\n",
        "    output = result.export()\n",
        "    return output\n",
        "\n",
        "if __name__ == \"__main__\":\n",
        "    pretrained_model = ocr_predictor(pretrained=True)\n",
        "\n",
        "    demo = gr.Interface(\n",
        "        fn=demo_process,\n",
        "        inputs=PDF(label=\"Upload a PDF\", interactive=True),\n",
        "        outputs=gr.JSON(),\n",
        "        title=f\"docTR demo\",\n",
        "        description=\"\"\"Description of demo\"\"\",\n",
        "        examples=[],\n",
        "        cache_examples=False,\n",
        "    )\n",
        "\n",
        "    demo.launch(share=True)"
      ],
      "metadata": {
        "id": "qp7kLFZBSfbL",
        "colab": {
          "base_uri": "https://localhost:8080/",
          "height": 591
        },
        "outputId": "cef3d176-474e-49eb-b514-2c65e5d0c443"
      },
      "execution_count": null,
      "outputs": [
        {
          "output_type": "stream",
          "name": "stdout",
          "text": [
            "Colab notebook detected. To show errors in colab notebook, set debug=True in launch()\n",
            "Running on public URL: https://532f7bc474dfe1db27.gradio.live\n",
            "\n",
            "This share link expires in 72 hours. For free permanent hosting and GPU upgrades, run `gradio deploy` from Terminal to deploy to Spaces (https://huggingface.co/spaces)\n"
          ]
        },
        {
          "output_type": "display_data",
          "data": {
            "text/plain": [
              "<IPython.core.display.HTML object>"
            ],
            "text/html": [
              "<div><iframe src=\"https://532f7bc474dfe1db27.gradio.live\" width=\"100%\" height=\"500\" allow=\"autoplay; camera; microphone; clipboard-read; clipboard-write;\" frameborder=\"0\" allowfullscreen></iframe></div>"
            ]
          },
          "metadata": {}
        }
      ]
    },
    {
      "cell_type": "markdown",
      "source": [
        "# **Parse Lease Output**\n",
        "\n",
        "**NOTE:** Requires [Pull private resources](https://colab.research.google.com/github/clarkde5/jams-pub/blob/main/colabs/jams-env-doctr.ipynb#scrollTo=CyQkr3hoftql)"
      ],
      "metadata": {
        "id": "0Xd7ckJ_FKk7"
      }
    },
    {
      "cell_type": "code",
      "source": [
        "runOptional = True\n",
        "def getContractsForPage(page_idx,page):\n",
        "  import re\n",
        "  CurrentFound = page_idx != 0\n",
        "  contracts = []\n",
        "\n",
        "  for block in page[\"blocks\"]:\n",
        "    for line in block[\"lines\"]:\n",
        "      for word_idx,word in enumerate(sorted(line[\"words\"], key = lambda x: x[\"geometry\"][0][1])):\n",
        "        if re.search(\"CURRENT\",word[\"value\"]):\n",
        "          CurrentFound = True\n",
        "\n",
        "        if not CurrentFound:\n",
        "          continue\n",
        "\n",
        "        if re.search(\"\\d{3}-\\d{7}-\\d{3}\",word[\"value\"]):\n",
        "          print(\"Found Contract Number: \" + word[\"value\"])\n",
        "          contracts.append(word)\n",
        "        else:\n",
        "          continue\n",
        "\n",
        "  return contracts\n",
        "\n",
        "def getSerialNumbersForPage(page_idx,page):\n",
        "  import re\n",
        "  CurrentFound = page_idx != 0\n",
        "  serialNumbers = []\n",
        "\n",
        "  for block in page[\"blocks\"]:\n",
        "    for line in block[\"lines\"]:\n",
        "      for word_idx,word in enumerate(sorted(line[\"words\"], key = lambda x: x[\"geometry\"][0][1])):\n",
        "        if re.search(\"CURRENT\",word[\"value\"]):\n",
        "          CurrentFound = True\n",
        "\n",
        "        if not CurrentFound:\n",
        "          continue\n",
        "\n",
        "        if re.search(\"SERIAL\",word[\"value\"]):\n",
        "          print(\"Found SerialNumber: \" + line[\"words\"][2][\"value\"])\n",
        "          serialNumbers.append(line[\"words\"][2])\n",
        "        else:\n",
        "          continue\n",
        "\n",
        "  return serialNumbers\n",
        "\n",
        "def main():\n",
        "  import json\n",
        "  import re\n",
        "\n",
        "  f = open('src/jams/output/Aug 23 Lease-docTR.json')\n",
        "  data = json.load(f)\n",
        "  #print(data[\"pages\"][0][\"blocks\"][0][\"lines\"][0][\"words\"][0][\"value\"])\n",
        "\n",
        "  page_idx = 4\n",
        "  page = data[\"pages\"][page_idx]\n",
        "  contracts = getContractsForPage(page_idx,page)\n",
        "  serialNumbers = getSerialNumbersForPage(page_idx,page)\n",
        "  #print(data[\"pages\"][0][\"blocks\"][0][\"lines\"][0][\"words\"])\n",
        "  #print(sorted(data[\"pages\"][0][\"blocks\"][0][\"lines\"][0][\"words\"], key = lambda x: x[\"geometry\"][0][1]))\n",
        "  #return\n",
        "\n",
        "  equipmentContract = contracts + serialNumbers\n",
        "\n",
        "  #print(equipmentContract)\n",
        "\n",
        "  for equipmentContractPair_idx,equipmentContractPair in enumerate(sorted(equipmentContract, key = lambda x: x[\"geometry\"][0][1])):\n",
        "    if re.search(\"\\d{3}-\\d{7}-\\d{3}\",equipmentContractPair[\"value\"]):\n",
        "      print(\"ContractNumber: \" + equipmentContractPair[\"value\"] + \",Y: \" + str(equipmentContractPair[\"geometry\"][0][1]))\n",
        "    else:\n",
        "      print(\"SerialNumber: \" + equipmentContractPair[\"value\"] + \",Y: \" + str(equipmentContractPair[\"geometry\"][0][1]))\n",
        "  #json_formatted_str = json.dumps(data[\"pages\"][0], indent=2)\n",
        "\n",
        "  #print(json_formatted_str)\n",
        "\n",
        "if __name__ == \"__main__\":\n",
        "  if runOptional == True:\n",
        "    main()\n",
        "  else:\n",
        "    print(\"Not running optional cell\")"
      ],
      "metadata": {
        "id": "px-v4l9MFtgD"
      },
      "execution_count": null,
      "outputs": []
    }
  ]
}