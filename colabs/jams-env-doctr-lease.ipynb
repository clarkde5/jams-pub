{
  "nbformat": 4,
  "nbformat_minor": 0,
  "metadata": {
    "colab": {
      "provenance": [],
      "gpuType": "T4",
      "mount_file_id": "https://github.com/clarkde5/jams-pub/blob/main/colabs/jams-env.ipynb",
      "authorship_tag": "ABX9TyMlArHNWcWjp2cuY1nrpXZB",
      "include_colab_link": true
    },
    "kernelspec": {
      "name": "python3",
      "display_name": "Python 3"
    },
    "language_info": {
      "name": "python"
    },
    "accelerator": "GPU"
  },
  "cells": [
    {
      "cell_type": "markdown",
      "metadata": {
        "id": "view-in-github",
        "colab_type": "text"
      },
      "source": [
        "<a href=\"https://colab.research.google.com/github/clarkde5/jams-pub/blob/main/colabs/jams-env-doctr-lease.ipynb\" target=\"_parent\"><img src=\"https://colab.research.google.com/assets/colab-badge.svg\" alt=\"Open In Colab\"/></a>"
      ]
    },
    {
      "cell_type": "markdown",
      "source": [
        "# **Environment**"
      ],
      "metadata": {
        "id": "I0sALLgde66O"
      }
    },
    {
      "cell_type": "markdown",
      "source": [
        "## **Bootstrap public repo**"
      ],
      "metadata": {
        "id": "QQx-kHNOfl3n"
      }
    },
    {
      "cell_type": "code",
      "source": [
        "!git clone https://github.com/clarkde5/jams-pub src/jams-pub"
      ],
      "metadata": {
        "id": "fInMs3k0HWlv"
      },
      "execution_count": null,
      "outputs": []
    },
    {
      "cell_type": "markdown",
      "source": [
        "## **Pull private resources**"
      ],
      "metadata": {
        "id": "CyQkr3hoftql"
      }
    },
    {
      "cell_type": "code",
      "source": [
        "runOptional = True\n",
        "def CallPrivateEnvSetup():\n",
        "  from pathlib import Path\n",
        "  from google.colab import userdata\n",
        "  try:\n",
        "    rsa_private_key = userdata.get('PrivateKey')\n",
        "  except:\n",
        "    rsa_private_key = \"\"\n",
        "    print(\"PrivateKey is required, but not found in secrets / colab userdata\")\n",
        "    return\n",
        "\n",
        "  !python src/jams-pub/env-setup.py \"{rsa_private_key}\"\n",
        "\n",
        "  home = str(Path.home())\n",
        "  if not Path(f\"{home}/.ssh/id_rsa\").is_file():\n",
        "    print(\"env-setup failed to create rsa key\")\n",
        "    return\n",
        "\n",
        "  if not Path(f\"src/jams\").is_dir():\n",
        "    !git clone git@github.com:clarkde5/jams.git src/jams\n",
        "\n",
        "if __name__ == \"__main__\":\n",
        "  if runOptional == True:\n",
        "    CallPrivateEnvSetup()\n",
        "  else:\n",
        "    print(\"Not running optional cell\")"
      ],
      "metadata": {
        "id": "fWCA-QMPIRdr"
      },
      "execution_count": null,
      "outputs": []
    },
    {
      "cell_type": "markdown",
      "source": [
        "## **(Optional) VS Code Integration**"
      ],
      "metadata": {
        "id": "zGJ5N1LwfTTd"
      }
    },
    {
      "cell_type": "code",
      "source": [
        "runOptional = False\n",
        "if runOptional == True:\n",
        "  !pip install -U git+https://github.com/amitness/colab-connect.git\n",
        "\n",
        "  from colabconnect import colabconnect\n",
        "\n",
        "  colabconnect()\n",
        "else:\n",
        "  print(\"Not running optional cell\")"
      ],
      "metadata": {
        "id": "ZUlPrGUV_CgF"
      },
      "execution_count": null,
      "outputs": []
    },
    {
      "cell_type": "markdown",
      "source": [
        "# **Parse Lease Output**\n",
        "\n",
        "**NOTE:** Requires [Pull private resources](https://colab.research.google.com/github/clarkde5/jams-pub/blob/main/colabs/jams-env-doctr.ipynb#scrollTo=CyQkr3hoftql)"
      ],
      "metadata": {
        "id": "0Xd7ckJ_FKk7"
      }
    },
    {
      "cell_type": "code",
      "source": [
        "runOptional = True\n",
        "def getContractsForPage(page_idx,page):\n",
        "  import re\n",
        "  CurrentFound = page_idx != 0\n",
        "  contracts = []\n",
        "\n",
        "  for block in page[\"blocks\"]:\n",
        "    for line in block[\"lines\"]:\n",
        "      for word_idx,word in enumerate(sorted(line[\"words\"], key = lambda x: x[\"geometry\"][0][1])):\n",
        "        if re.search(\"CURRENT\",word[\"value\"]):\n",
        "          CurrentFound = True\n",
        "\n",
        "        if not CurrentFound:\n",
        "          continue\n",
        "\n",
        "        if re.search(\"\\d{3}-\\d{7}-\\d{3}\",word[\"value\"]):\n",
        "          print(\"Found Contract Number: \" + word[\"value\"])\n",
        "          contracts.append(word)\n",
        "        else:\n",
        "          continue\n",
        "\n",
        "  return contracts\n",
        "\n",
        "def getSerialNumbersForPage(page_idx,page):\n",
        "  import re\n",
        "  CurrentFound = page_idx != 0\n",
        "  serialNumbers = []\n",
        "\n",
        "  for block in page[\"blocks\"]:\n",
        "    for line in block[\"lines\"]:\n",
        "      for word_idx,word in enumerate(sorted(line[\"words\"], key = lambda x: x[\"geometry\"][0][1])):\n",
        "        if re.search(\"CURRENT\",word[\"value\"]):\n",
        "          CurrentFound = True\n",
        "\n",
        "        if not CurrentFound:\n",
        "          continue\n",
        "\n",
        "        if re.search(\"SERIAL\",word[\"value\"]):\n",
        "          print(\"Found SerialNumber: \" + line[\"words\"][2][\"value\"])\n",
        "          serialNumbers.append(line[\"words\"][2])\n",
        "        else:\n",
        "          continue\n",
        "\n",
        "  return serialNumbers\n",
        "\n",
        "def main():\n",
        "  import json\n",
        "  import re\n",
        "\n",
        "  f = open('src/jams/output/Aug 23 Lease-docTR.json')\n",
        "  data = json.load(f)\n",
        "  #print(data[\"pages\"][0][\"blocks\"][0][\"lines\"][0][\"words\"][0][\"value\"])\n",
        "\n",
        "  page_idx = 4\n",
        "  page = data[\"pages\"][page_idx]\n",
        "  contracts = getContractsForPage(page_idx,page)\n",
        "  serialNumbers = getSerialNumbersForPage(page_idx,page)\n",
        "  #print(data[\"pages\"][0][\"blocks\"][0][\"lines\"][0][\"words\"])\n",
        "  #print(sorted(data[\"pages\"][0][\"blocks\"][0][\"lines\"][0][\"words\"], key = lambda x: x[\"geometry\"][0][1]))\n",
        "  #return\n",
        "\n",
        "  equipmentContract = contracts + serialNumbers\n",
        "\n",
        "  #print(equipmentContract)\n",
        "\n",
        "  for equipmentContractPair_idx,equipmentContractPair in enumerate(sorted(equipmentContract, key = lambda x: x[\"geometry\"][0][1])):\n",
        "    if re.search(\"\\d{3}-\\d{7}-\\d{3}\",equipmentContractPair[\"value\"]):\n",
        "      print(\"ContractNumber: \" + equipmentContractPair[\"value\"] + \",Y: \" + str(equipmentContractPair[\"geometry\"][0][1]))\n",
        "    else:\n",
        "      print(\"SerialNumber: \" + equipmentContractPair[\"value\"] + \",Y: \" + str(equipmentContractPair[\"geometry\"][0][1]))\n",
        "  #json_formatted_str = json.dumps(data[\"pages\"][0], indent=2)\n",
        "\n",
        "  #print(json_formatted_str)\n",
        "\n",
        "if __name__ == \"__main__\":\n",
        "  if runOptional == True:\n",
        "    main()\n",
        "  else:\n",
        "    print(\"Not running optional cell\")"
      ],
      "metadata": {
        "id": "px-v4l9MFtgD"
      },
      "execution_count": null,
      "outputs": []
    }
  ]
}