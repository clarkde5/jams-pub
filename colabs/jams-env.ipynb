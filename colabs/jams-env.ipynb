{
  "nbformat": 4,
  "nbformat_minor": 0,
  "metadata": {
    "colab": {
      "provenance": [],
      "authorship_tag": "ABX9TyPtp5KL7NsYdRPeolHcoU1h",
      "include_colab_link": true
    },
    "kernelspec": {
      "name": "python3",
      "display_name": "Python 3"
    },
    "language_info": {
      "name": "python"
    }
  },
  "cells": [
    {
      "cell_type": "markdown",
      "metadata": {
        "id": "view-in-github",
        "colab_type": "text"
      },
      "source": [
        "<a href=\"https://colab.research.google.com/github/clarkde5/jams-pub/blob/main/colabs/jams-env.ipynb\" target=\"_parent\"><img src=\"https://colab.research.google.com/assets/colab-badge.svg\" alt=\"Open In Colab\"/></a>"
      ]
    },
    {
      "cell_type": "code",
      "source": [
        "!git clone https://github.com/clarkde5/jams-pub ~/src/jams-pub\n",
        "\n",
        "!mkdir ~/src\n",
        "\n",
        "def main():\n",
        "  from google.colab import userdata\n",
        "  global rsa_private_key\n",
        "\n",
        "  try:\n",
        "    rsa_private_key = userdata.get('PrivateKey')\n",
        "  except:\n",
        "    rsa_private_key = \"\"\n",
        "    print(\"PrivateKey is required\")\n",
        "    return\n",
        "\n",
        "  print(\"PrivateKey acquired\")\n",
        "\n",
        "  !mkdir ~/.ssh\n",
        "\n",
        "  from pathlib import Path\n",
        "  home = str(Path.home())\n",
        "  f = open(f\"{home}/.ssh/id_rsa\", \"w\")\n",
        "  f.write(rsa_private_key)\n",
        "  f.close()\n",
        "  !chmod 600 ~/.ssh/id_rsa\n",
        "\n",
        "  f = open(f\"{home}/.ssh/known_hosts\", \"w\")\n",
        "  f.write(\"\"\"|1|NLCeolhVq8rUb2gdHsEN1+eo0/w=|bMFE7NpV8/yfBkwt1V416Ikj43M= ssh-ed25519 AAAAC3NzaC1lZDI1NTE5AAAAIOMqqnkVzrm0SdG6UOoqKLsabgH5C9okWi0dh2l9GKJl\n",
        "  |1|Cridrc6Vr8plmuAmrnDuHNAzA4Y=|4VqfqZfFqPIIPVXRxIykjLwo5f8= ssh-rsa AAAAB3NzaC1yc2EAAAADAQABAAABgQCj7ndNxQowgcQnjshcLrqPEiiphnt+VTTvDP6mHBL9j1aNUkY4Ue1gvwnGLVlOhGeYrnZaMgRK6+PKCUXaDbC7qtbW8gIkhL7aGCsOr/C56SJMy/BCZfxd1nWzAOxSDPgVsmerOBYfNqltV9/hWCqBywINIR+5dIg6JTJ72pcEpEjcYgXkE2YEFXV1JHnsKgbLWNlhScqb2UmyRkQyytRLtL+38TGxkxCflmO+5Z8CSSNY7GidjMIZ7Q4zMjA2n1nGrlTDkzwDCsw+wqFPGQA179cnfGWOWRVruj16z6XyvxvjJwbz0wQZ75XK5tKSb7FNyeIEs4TT4jk+S4dhPeAUC5y+bDYirYgM4GC7uEnztnZyaVWQ7B381AK4Qdrwt51ZqExKbQpTUNn+EjqoTwvqNj4kqx5QUCI0ThS/YkOxJCXmPUWZbhjpCg56i+2aB6CmK2JGhn57K5mj0MNdBXA4/WnwH6XoPWJzK5Nyu2zB3nAZp+S5hpQs+p1vN1/wsjk=\n",
        "  |1|IkM+MCpqt0ao0W7cH98Gkyb2kn8=|Xbscni2Q/6zNfMw+tZl4u3y9/2s= ecdsa-sha2-nistp256 AAAAE2VjZHNhLXNoYTItbmlzdHAyNTYAAAAIbmlzdHAyNTYAAABBBEmKSENjQEezOmxkZMy7opKgwFB9nkt5YRrYMjNuG5N87uRgg6CLrbo5wAdT/y6v0mKV0U2w0WZ2YB/++Tpockg=\n",
        "  \"\"\")\n",
        "  f.close()\n",
        "\n",
        "  !pip install -U git+https://github.com/amitness/colab-connect.git\n",
        "\n",
        "  !git clone git@github.com:clarkde5/jams.git ~/src/jams\n",
        "\n",
        "\n",
        "if __name__ == \"__main__\":\n",
        "  main()\n"
      ],
      "metadata": {
        "id": "_DWMiLSJ7klK"
      },
      "execution_count": null,
      "outputs": []
    },
    {
      "cell_type": "code",
      "source": [
        "from colabconnect import colabconnect\n",
        "\n",
        "colabconnect()"
      ],
      "metadata": {
        "id": "ZUlPrGUV_CgF"
      },
      "execution_count": null,
      "outputs": []
    }
  ]
}