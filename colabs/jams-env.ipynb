{
  "nbformat": 4,
  "nbformat_minor": 0,
  "metadata": {
    "colab": {
      "provenance": [],
      "include_colab_link": true
    },
    "kernelspec": {
      "name": "python3",
      "display_name": "Python 3"
    },
    "language_info": {
      "name": "python"
    }
  },
  "cells": [
    {
      "cell_type": "markdown",
      "metadata": {
        "id": "view-in-github",
        "colab_type": "text"
      },
      "source": [
        "<a href=\"https://colab.research.google.com/github/clarkde5/jams-pub/blob/main/colabs/jams-env.ipynb\" target=\"_parent\"><img src=\"https://colab.research.google.com/assets/colab-badge.svg\" alt=\"Open In Colab\"/></a>"
      ]
    },
    {
      "cell_type": "code",
      "source": [
        "!git clone https://github.com/clarkde5/jams-pub ~/src/jams-pub"
      ],
      "metadata": {
        "id": "fInMs3k0HWlv"
      },
      "execution_count": null,
      "outputs": []
    },
    {
      "cell_type": "code",
      "source": [
        "def CallPrivateEnvSetup():\n",
        "  from pathlib import Path\n",
        "  from google.colab import userdata\n",
        "  try:\n",
        "    rsa_private_key = userdata.get('PrivateKey')\n",
        "  except:\n",
        "    rsa_private_key = \"\"\n",
        "    print(\"PrivateKey is required, but not found in secrets / colab userdata\")\n",
        "    return\n",
        "\n",
        "  !python ~/src/jams-pub/env-setup.py \"{rsa_private_key}\"\n",
        "\n",
        "  home = str(Path.home())\n",
        "  if not Path(f\"{home}/.ssh/id_rsa\").is_file():\n",
        "    print(\"env-setup failed to create rsa key\")\n",
        "    return\n",
        "\n",
        "  if not Path(f\"{home}/src/jams\").is_dir():\n",
        "    !git clone git@github.com:clarkde5/jams.git ~/src/jams\n",
        "\n",
        "if __name__ == \"__main__\":\n",
        "  CallPrivateEnvSetup()\n",
        "\n",
        "  #is this saving?"
      ],
      "metadata": {
        "id": "fWCA-QMPIRdr"
      },
      "execution_count": null,
      "outputs": []
    },
    {
      "cell_type": "code",
      "source": [
        "!pip install -U git+https://github.com/amitness/colab-connect.git\n",
        "\n",
        "from colabconnect import colabconnect\n",
        "\n",
        "colabconnect()"
      ],
      "metadata": {
        "id": "ZUlPrGUV_CgF"
      },
      "execution_count": null,
      "outputs": []
    }
  ]
}